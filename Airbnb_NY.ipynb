{
  "nbformat": 4,
  "nbformat_minor": 0,
  "metadata": {
    "colab": {
      "provenance": [],
      "toc_visible": true,
      "authorship_tag": "ABX9TyO+f0uvAWF4Ur8oKZSnkFiQ",
      "include_colab_link": true
    },
    "kernelspec": {
      "name": "python3",
      "display_name": "Python 3"
    },
    "language_info": {
      "name": "python"
    }
  },
  "cells": [
    {
      "cell_type": "markdown",
      "metadata": {
        "id": "view-in-github",
        "colab_type": "text"
      },
      "source": [
        "<a href=\"https://colab.research.google.com/github/Guiara/Airbnb_data_analysis/blob/main/Airbnb_NY.ipynb\" target=\"_parent\"><img src=\"https://colab.research.google.com/assets/colab-badge.svg\" alt=\"Open In Colab\"/></a>"
      ]
    },
    {
      "cell_type": "markdown",
      "source": [
        "# Análise dos Dados do Airbnb - *New York*\n",
        "\n",
        "O [Airbnb](https://www.airbnb.com.br/) já é considerado como sendo a **maior empresa hoteleira da atualidade**. Ah, o detalhe é que ele **não possui nenhum hotel**!\n",
        "\n",
        "Airbnb permite aos indivíduos alugar toda ou parte de sua própria casa, como uma forma de acomodação extra. O site fornece uma plataforma de busca e reservas entre a pessoa que oferece a acomodação para o turista que busca pela locação. Abrange mais de 500 mil anúncios em mais de 35.000 cidades e 192 países.\n",
        "\n",
        "Uma das iniciativas do Airbnb é disponibilizar dados do site, para algumas das principais cidades do mundo. Por meio do portal [Inside Airbnb](http://insideairbnb.com/get-the-data.html), é possível baixar uma grande quantidade de dados para desenvolver projetos e soluções de *Data Science*.\n",
        "\n",
        "<center><img alt=\"Analisando Airbnb\" width=\"10%\" src=\"https://www.area360.com.au/wp-content/uploads/2017/09/airbnb-logo.jpg\"></center>\n",
        "\n",
        "**Neste *notebook*, iremos analisar os dados referentes à cidade *New York*, e ver quais *insights*' podem ser extraídos a partir de dados brutos.**\n",
        "\n"
      ],
      "metadata": {
        "id": "ior29fLvcLiL"
      }
    },
    {
      "cell_type": "markdown",
      "source": [
        "## Obtenção dos Dados"
      ],
      "metadata": {
        "id": "69u9xwrdcn1M"
      }
    },
    {
      "cell_type": "code",
      "source": [
        "# importar pacotes necessários\n",
        "import warnings\n",
        "warnings.filterwarnings('ignore')\n",
        "\n",
        "import pandas as pd\n",
        "import numpy as np\n",
        "import matplotlib.pyplot as plt\n",
        "import matplotlib.image as mpimg\n",
        "%matplotlib inline\n",
        "import seaborn as sns\n"
      ],
      "metadata": {
        "id": "2Qux17ficpc6"
      },
      "execution_count": 3,
      "outputs": []
    },
    {
      "cell_type": "markdown",
      "source": [
        "##**Dicionário de Variáveis do *dataset***\n",
        "\n",
        "* `id` - número de id gerado para identificar o imóvel\n",
        "* `name` - nome do anúncio\n",
        "* `host_id` - número de id do proprietário (anfitrião) da propriedade\n",
        "* `host_name` - nome do anfitrião\n",
        "* `neighbourhood_group` - região\n",
        "* `neighbourhood` - nome do bairro\n",
        "* `latitude` - coordenada da latitude da propriedade\n",
        "* `longitude` - coordenada da longitude da propriedade\n",
        "* `room_type` - informa o tipo de quarto que é oferecido\n",
        "* `price` - preço para alugar o imóvel\n",
        "* `minimum_nights` - quantidade mínima de noites para reservar\n",
        "* `number_of_reviews` - número de avaliações que a propriedade possui\n",
        "* `last_review` - data da última avaliação\n",
        "* `reviews_per_month` - quantidade de avaliações por mês\n",
        "* `calculated_host_listings_count` - quantidade de imóveis do mesmo anfitrião\n",
        "* `availability_365` - número de dias de disponibilidade dentro de 365 dias\n",
        "* `number_of_reviews_ltm` - número avaliações no último mês\n",
        "* `license`- novo recurso que ainda não foi preenchido (não possível identificar)\n",
        "\n",
        "\n",
        "\n"
      ],
      "metadata": {
        "id": "RffC8gOBqTp-"
      }
    },
    {
      "cell_type": "markdown",
      "source": [
        "##**Análise preliminar dos dados**"
      ],
      "metadata": {
        "id": "AoyVkOv-aWeE"
      }
    },
    {
      "cell_type": "code",
      "source": [
        "# Carregar Base de Dados\n",
        "\n",
        "df = pd.read_csv(\"http://data.insideairbnb.com/united-states/ny/new-york-city/2022-12-04/visualisations/listings.csv\")\n",
        "\n",
        "# Análise Preliminar\n",
        "print('Dimensões do Dataset',\n",
        "    '\\nVariáveis: ',df.shape[1], \"\\n\"\n",
        "      'Entradas: ', df.shape[0])\n",
        "\n",
        "# Verificação 03 primeiras entradas\n",
        "df.head(3)\n",
        "\n"
      ],
      "metadata": {
        "colab": {
          "base_uri": "https://localhost:8080/",
          "height": 363
        },
        "id": "JyIH5LX5cwsu",
        "outputId": "3600f8a4-ec03-40c8-9be0-a153e3e5b700"
      },
      "execution_count": 48,
      "outputs": [
        {
          "output_type": "stream",
          "name": "stdout",
          "text": [
            "Dimensões do Dataset \n",
            "Variáveis:  18 \n",
            "Entradas:  41533\n"
          ]
        },
        {
          "output_type": "execute_result",
          "data": {
            "text/plain": [
              "     id                                      name  host_id  host_name  \\\n",
              "0  5136  Spacious Brooklyn Duplex, Patio + Garden     7378    Rebecca   \n",
              "1  5203        Cozy Clean Guest Room - Family Apt     7490  MaryEllen   \n",
              "2  5121                           BlissArtsSpace!     7356      Garon   \n",
              "\n",
              "  neighbourhood_group       neighbourhood  latitude  longitude  \\\n",
              "0            Brooklyn         Sunset Park  40.66265  -73.99454   \n",
              "1           Manhattan     Upper West Side  40.80380  -73.96751   \n",
              "2            Brooklyn  Bedford-Stuyvesant  40.68535  -73.95512   \n",
              "\n",
              "         room_type  price  minimum_nights  number_of_reviews last_review  \\\n",
              "0  Entire home/apt    275              21                  3  2022-08-10   \n",
              "1     Private room     75               2                118  2017-07-21   \n",
              "2     Private room     60              30                 50  2019-12-02   \n",
              "\n",
              "   reviews_per_month  calculated_host_listings_count  availability_365  \\\n",
              "0               0.03                               1               267   \n",
              "1               0.73                               1                 0   \n",
              "2               0.30                               2               322   \n",
              "\n",
              "   number_of_reviews_ltm license  \n",
              "0                      1     NaN  \n",
              "1                      0     NaN  \n",
              "2                      0     NaN  "
            ],
            "text/html": [
              "\n",
              "  <div id=\"df-2dcc6425-c2fe-48c7-8098-5bc888cae298\">\n",
              "    <div class=\"colab-df-container\">\n",
              "      <div>\n",
              "<style scoped>\n",
              "    .dataframe tbody tr th:only-of-type {\n",
              "        vertical-align: middle;\n",
              "    }\n",
              "\n",
              "    .dataframe tbody tr th {\n",
              "        vertical-align: top;\n",
              "    }\n",
              "\n",
              "    .dataframe thead th {\n",
              "        text-align: right;\n",
              "    }\n",
              "</style>\n",
              "<table border=\"1\" class=\"dataframe\">\n",
              "  <thead>\n",
              "    <tr style=\"text-align: right;\">\n",
              "      <th></th>\n",
              "      <th>id</th>\n",
              "      <th>name</th>\n",
              "      <th>host_id</th>\n",
              "      <th>host_name</th>\n",
              "      <th>neighbourhood_group</th>\n",
              "      <th>neighbourhood</th>\n",
              "      <th>latitude</th>\n",
              "      <th>longitude</th>\n",
              "      <th>room_type</th>\n",
              "      <th>price</th>\n",
              "      <th>minimum_nights</th>\n",
              "      <th>number_of_reviews</th>\n",
              "      <th>last_review</th>\n",
              "      <th>reviews_per_month</th>\n",
              "      <th>calculated_host_listings_count</th>\n",
              "      <th>availability_365</th>\n",
              "      <th>number_of_reviews_ltm</th>\n",
              "      <th>license</th>\n",
              "    </tr>\n",
              "  </thead>\n",
              "  <tbody>\n",
              "    <tr>\n",
              "      <th>0</th>\n",
              "      <td>5136</td>\n",
              "      <td>Spacious Brooklyn Duplex, Patio + Garden</td>\n",
              "      <td>7378</td>\n",
              "      <td>Rebecca</td>\n",
              "      <td>Brooklyn</td>\n",
              "      <td>Sunset Park</td>\n",
              "      <td>40.66265</td>\n",
              "      <td>-73.99454</td>\n",
              "      <td>Entire home/apt</td>\n",
              "      <td>275</td>\n",
              "      <td>21</td>\n",
              "      <td>3</td>\n",
              "      <td>2022-08-10</td>\n",
              "      <td>0.03</td>\n",
              "      <td>1</td>\n",
              "      <td>267</td>\n",
              "      <td>1</td>\n",
              "      <td>NaN</td>\n",
              "    </tr>\n",
              "    <tr>\n",
              "      <th>1</th>\n",
              "      <td>5203</td>\n",
              "      <td>Cozy Clean Guest Room - Family Apt</td>\n",
              "      <td>7490</td>\n",
              "      <td>MaryEllen</td>\n",
              "      <td>Manhattan</td>\n",
              "      <td>Upper West Side</td>\n",
              "      <td>40.80380</td>\n",
              "      <td>-73.96751</td>\n",
              "      <td>Private room</td>\n",
              "      <td>75</td>\n",
              "      <td>2</td>\n",
              "      <td>118</td>\n",
              "      <td>2017-07-21</td>\n",
              "      <td>0.73</td>\n",
              "      <td>1</td>\n",
              "      <td>0</td>\n",
              "      <td>0</td>\n",
              "      <td>NaN</td>\n",
              "    </tr>\n",
              "    <tr>\n",
              "      <th>2</th>\n",
              "      <td>5121</td>\n",
              "      <td>BlissArtsSpace!</td>\n",
              "      <td>7356</td>\n",
              "      <td>Garon</td>\n",
              "      <td>Brooklyn</td>\n",
              "      <td>Bedford-Stuyvesant</td>\n",
              "      <td>40.68535</td>\n",
              "      <td>-73.95512</td>\n",
              "      <td>Private room</td>\n",
              "      <td>60</td>\n",
              "      <td>30</td>\n",
              "      <td>50</td>\n",
              "      <td>2019-12-02</td>\n",
              "      <td>0.30</td>\n",
              "      <td>2</td>\n",
              "      <td>322</td>\n",
              "      <td>0</td>\n",
              "      <td>NaN</td>\n",
              "    </tr>\n",
              "  </tbody>\n",
              "</table>\n",
              "</div>\n",
              "      <button class=\"colab-df-convert\" onclick=\"convertToInteractive('df-2dcc6425-c2fe-48c7-8098-5bc888cae298')\"\n",
              "              title=\"Convert this dataframe to an interactive table.\"\n",
              "              style=\"display:none;\">\n",
              "        \n",
              "  <svg xmlns=\"http://www.w3.org/2000/svg\" height=\"24px\"viewBox=\"0 0 24 24\"\n",
              "       width=\"24px\">\n",
              "    <path d=\"M0 0h24v24H0V0z\" fill=\"none\"/>\n",
              "    <path d=\"M18.56 5.44l.94 2.06.94-2.06 2.06-.94-2.06-.94-.94-2.06-.94 2.06-2.06.94zm-11 1L8.5 8.5l.94-2.06 2.06-.94-2.06-.94L8.5 2.5l-.94 2.06-2.06.94zm10 10l.94 2.06.94-2.06 2.06-.94-2.06-.94-.94-2.06-.94 2.06-2.06.94z\"/><path d=\"M17.41 7.96l-1.37-1.37c-.4-.4-.92-.59-1.43-.59-.52 0-1.04.2-1.43.59L10.3 9.45l-7.72 7.72c-.78.78-.78 2.05 0 2.83L4 21.41c.39.39.9.59 1.41.59.51 0 1.02-.2 1.41-.59l7.78-7.78 2.81-2.81c.8-.78.8-2.07 0-2.86zM5.41 20L4 18.59l7.72-7.72 1.47 1.35L5.41 20z\"/>\n",
              "  </svg>\n",
              "      </button>\n",
              "      \n",
              "  <style>\n",
              "    .colab-df-container {\n",
              "      display:flex;\n",
              "      flex-wrap:wrap;\n",
              "      gap: 12px;\n",
              "    }\n",
              "\n",
              "    .colab-df-convert {\n",
              "      background-color: #E8F0FE;\n",
              "      border: none;\n",
              "      border-radius: 50%;\n",
              "      cursor: pointer;\n",
              "      display: none;\n",
              "      fill: #1967D2;\n",
              "      height: 32px;\n",
              "      padding: 0 0 0 0;\n",
              "      width: 32px;\n",
              "    }\n",
              "\n",
              "    .colab-df-convert:hover {\n",
              "      background-color: #E2EBFA;\n",
              "      box-shadow: 0px 1px 2px rgba(60, 64, 67, 0.3), 0px 1px 3px 1px rgba(60, 64, 67, 0.15);\n",
              "      fill: #174EA6;\n",
              "    }\n",
              "\n",
              "    [theme=dark] .colab-df-convert {\n",
              "      background-color: #3B4455;\n",
              "      fill: #D2E3FC;\n",
              "    }\n",
              "\n",
              "    [theme=dark] .colab-df-convert:hover {\n",
              "      background-color: #434B5C;\n",
              "      box-shadow: 0px 1px 3px 1px rgba(0, 0, 0, 0.15);\n",
              "      filter: drop-shadow(0px 1px 2px rgba(0, 0, 0, 0.3));\n",
              "      fill: #FFFFFF;\n",
              "    }\n",
              "  </style>\n",
              "\n",
              "      <script>\n",
              "        const buttonEl =\n",
              "          document.querySelector('#df-2dcc6425-c2fe-48c7-8098-5bc888cae298 button.colab-df-convert');\n",
              "        buttonEl.style.display =\n",
              "          google.colab.kernel.accessAllowed ? 'block' : 'none';\n",
              "\n",
              "        async function convertToInteractive(key) {\n",
              "          const element = document.querySelector('#df-2dcc6425-c2fe-48c7-8098-5bc888cae298');\n",
              "          const dataTable =\n",
              "            await google.colab.kernel.invokeFunction('convertToInteractive',\n",
              "                                                     [key], {});\n",
              "          if (!dataTable) return;\n",
              "\n",
              "          const docLinkHtml = 'Like what you see? Visit the ' +\n",
              "            '<a target=\"_blank\" href=https://colab.research.google.com/notebooks/data_table.ipynb>data table notebook</a>'\n",
              "            + ' to learn more about interactive tables.';\n",
              "          element.innerHTML = '';\n",
              "          dataTable['output_type'] = 'display_data';\n",
              "          await google.colab.output.renderOutput(dataTable, element);\n",
              "          const docLink = document.createElement('div');\n",
              "          docLink.innerHTML = docLinkHtml;\n",
              "          element.appendChild(docLink);\n",
              "        }\n",
              "      </script>\n",
              "    </div>\n",
              "  </div>\n",
              "  "
            ]
          },
          "metadata": {},
          "execution_count": 48
        }
      ]
    },
    {
      "cell_type": "code",
      "source": [
        "# Verificação últimas 03 entradas \n",
        "df.tail(3)"
      ],
      "metadata": {
        "colab": {
          "base_uri": "https://localhost:8080/",
          "height": 415
        },
        "id": "1NrDEXWzlt-Q",
        "outputId": "e2dfae50-0ed8-4a8b-db3a-9b853997278b"
      },
      "execution_count": 49,
      "outputs": [
        {
          "output_type": "execute_result",
          "data": {
            "text/plain": [
              "                       id                                               name  \\\n",
              "41530  771971759808918693     9B5B Townhouse w/ Elevator &  Private Entrance   \n",
              "41531  771971822371481471  Huge 9B5B Townhouse w Elevator &  Private Entr...   \n",
              "41532  771975190766692224           Lovely  Big Studio for Rental Bronx City   \n",
              "\n",
              "         host_id host_name neighbourhood_group neighbourhood   latitude  \\\n",
              "41530  316920152   Allison           Manhattan   Murray Hill  40.746902   \n",
              "41531  484979380   Natasha           Manhattan   Murray Hill  40.749596   \n",
              "41532  426540801      Abul               Bronx     Unionport  40.832824   \n",
              "\n",
              "       longitude        room_type  price  minimum_nights  number_of_reviews  \\\n",
              "41530 -73.978260  Entire home/apt   3888               2                  0   \n",
              "41531 -73.980798  Entire home/apt   3888               2                  0   \n",
              "41532 -73.852371  Entire home/apt     80               3                  0   \n",
              "\n",
              "      last_review  reviews_per_month  calculated_host_listings_count  \\\n",
              "41530         NaN                NaN                               8   \n",
              "41531         NaN                NaN                               2   \n",
              "41532         NaN                NaN                               2   \n",
              "\n",
              "       availability_365  number_of_reviews_ltm license  \n",
              "41530               365                      0     NaN  \n",
              "41531               364                      0     NaN  \n",
              "41532               365                      0     NaN  "
            ],
            "text/html": [
              "\n",
              "  <div id=\"df-0331303d-1514-4b23-8287-91e0a49a00b8\">\n",
              "    <div class=\"colab-df-container\">\n",
              "      <div>\n",
              "<style scoped>\n",
              "    .dataframe tbody tr th:only-of-type {\n",
              "        vertical-align: middle;\n",
              "    }\n",
              "\n",
              "    .dataframe tbody tr th {\n",
              "        vertical-align: top;\n",
              "    }\n",
              "\n",
              "    .dataframe thead th {\n",
              "        text-align: right;\n",
              "    }\n",
              "</style>\n",
              "<table border=\"1\" class=\"dataframe\">\n",
              "  <thead>\n",
              "    <tr style=\"text-align: right;\">\n",
              "      <th></th>\n",
              "      <th>id</th>\n",
              "      <th>name</th>\n",
              "      <th>host_id</th>\n",
              "      <th>host_name</th>\n",
              "      <th>neighbourhood_group</th>\n",
              "      <th>neighbourhood</th>\n",
              "      <th>latitude</th>\n",
              "      <th>longitude</th>\n",
              "      <th>room_type</th>\n",
              "      <th>price</th>\n",
              "      <th>minimum_nights</th>\n",
              "      <th>number_of_reviews</th>\n",
              "      <th>last_review</th>\n",
              "      <th>reviews_per_month</th>\n",
              "      <th>calculated_host_listings_count</th>\n",
              "      <th>availability_365</th>\n",
              "      <th>number_of_reviews_ltm</th>\n",
              "      <th>license</th>\n",
              "    </tr>\n",
              "  </thead>\n",
              "  <tbody>\n",
              "    <tr>\n",
              "      <th>41530</th>\n",
              "      <td>771971759808918693</td>\n",
              "      <td>9B5B Townhouse w/ Elevator &amp;  Private Entrance</td>\n",
              "      <td>316920152</td>\n",
              "      <td>Allison</td>\n",
              "      <td>Manhattan</td>\n",
              "      <td>Murray Hill</td>\n",
              "      <td>40.746902</td>\n",
              "      <td>-73.978260</td>\n",
              "      <td>Entire home/apt</td>\n",
              "      <td>3888</td>\n",
              "      <td>2</td>\n",
              "      <td>0</td>\n",
              "      <td>NaN</td>\n",
              "      <td>NaN</td>\n",
              "      <td>8</td>\n",
              "      <td>365</td>\n",
              "      <td>0</td>\n",
              "      <td>NaN</td>\n",
              "    </tr>\n",
              "    <tr>\n",
              "      <th>41531</th>\n",
              "      <td>771971822371481471</td>\n",
              "      <td>Huge 9B5B Townhouse w Elevator &amp;  Private Entr...</td>\n",
              "      <td>484979380</td>\n",
              "      <td>Natasha</td>\n",
              "      <td>Manhattan</td>\n",
              "      <td>Murray Hill</td>\n",
              "      <td>40.749596</td>\n",
              "      <td>-73.980798</td>\n",
              "      <td>Entire home/apt</td>\n",
              "      <td>3888</td>\n",
              "      <td>2</td>\n",
              "      <td>0</td>\n",
              "      <td>NaN</td>\n",
              "      <td>NaN</td>\n",
              "      <td>2</td>\n",
              "      <td>364</td>\n",
              "      <td>0</td>\n",
              "      <td>NaN</td>\n",
              "    </tr>\n",
              "    <tr>\n",
              "      <th>41532</th>\n",
              "      <td>771975190766692224</td>\n",
              "      <td>Lovely  Big Studio for Rental Bronx City</td>\n",
              "      <td>426540801</td>\n",
              "      <td>Abul</td>\n",
              "      <td>Bronx</td>\n",
              "      <td>Unionport</td>\n",
              "      <td>40.832824</td>\n",
              "      <td>-73.852371</td>\n",
              "      <td>Entire home/apt</td>\n",
              "      <td>80</td>\n",
              "      <td>3</td>\n",
              "      <td>0</td>\n",
              "      <td>NaN</td>\n",
              "      <td>NaN</td>\n",
              "      <td>2</td>\n",
              "      <td>365</td>\n",
              "      <td>0</td>\n",
              "      <td>NaN</td>\n",
              "    </tr>\n",
              "  </tbody>\n",
              "</table>\n",
              "</div>\n",
              "      <button class=\"colab-df-convert\" onclick=\"convertToInteractive('df-0331303d-1514-4b23-8287-91e0a49a00b8')\"\n",
              "              title=\"Convert this dataframe to an interactive table.\"\n",
              "              style=\"display:none;\">\n",
              "        \n",
              "  <svg xmlns=\"http://www.w3.org/2000/svg\" height=\"24px\"viewBox=\"0 0 24 24\"\n",
              "       width=\"24px\">\n",
              "    <path d=\"M0 0h24v24H0V0z\" fill=\"none\"/>\n",
              "    <path d=\"M18.56 5.44l.94 2.06.94-2.06 2.06-.94-2.06-.94-.94-2.06-.94 2.06-2.06.94zm-11 1L8.5 8.5l.94-2.06 2.06-.94-2.06-.94L8.5 2.5l-.94 2.06-2.06.94zm10 10l.94 2.06.94-2.06 2.06-.94-2.06-.94-.94-2.06-.94 2.06-2.06.94z\"/><path d=\"M17.41 7.96l-1.37-1.37c-.4-.4-.92-.59-1.43-.59-.52 0-1.04.2-1.43.59L10.3 9.45l-7.72 7.72c-.78.78-.78 2.05 0 2.83L4 21.41c.39.39.9.59 1.41.59.51 0 1.02-.2 1.41-.59l7.78-7.78 2.81-2.81c.8-.78.8-2.07 0-2.86zM5.41 20L4 18.59l7.72-7.72 1.47 1.35L5.41 20z\"/>\n",
              "  </svg>\n",
              "      </button>\n",
              "      \n",
              "  <style>\n",
              "    .colab-df-container {\n",
              "      display:flex;\n",
              "      flex-wrap:wrap;\n",
              "      gap: 12px;\n",
              "    }\n",
              "\n",
              "    .colab-df-convert {\n",
              "      background-color: #E8F0FE;\n",
              "      border: none;\n",
              "      border-radius: 50%;\n",
              "      cursor: pointer;\n",
              "      display: none;\n",
              "      fill: #1967D2;\n",
              "      height: 32px;\n",
              "      padding: 0 0 0 0;\n",
              "      width: 32px;\n",
              "    }\n",
              "\n",
              "    .colab-df-convert:hover {\n",
              "      background-color: #E2EBFA;\n",
              "      box-shadow: 0px 1px 2px rgba(60, 64, 67, 0.3), 0px 1px 3px 1px rgba(60, 64, 67, 0.15);\n",
              "      fill: #174EA6;\n",
              "    }\n",
              "\n",
              "    [theme=dark] .colab-df-convert {\n",
              "      background-color: #3B4455;\n",
              "      fill: #D2E3FC;\n",
              "    }\n",
              "\n",
              "    [theme=dark] .colab-df-convert:hover {\n",
              "      background-color: #434B5C;\n",
              "      box-shadow: 0px 1px 3px 1px rgba(0, 0, 0, 0.15);\n",
              "      filter: drop-shadow(0px 1px 2px rgba(0, 0, 0, 0.3));\n",
              "      fill: #FFFFFF;\n",
              "    }\n",
              "  </style>\n",
              "\n",
              "      <script>\n",
              "        const buttonEl =\n",
              "          document.querySelector('#df-0331303d-1514-4b23-8287-91e0a49a00b8 button.colab-df-convert');\n",
              "        buttonEl.style.display =\n",
              "          google.colab.kernel.accessAllowed ? 'block' : 'none';\n",
              "\n",
              "        async function convertToInteractive(key) {\n",
              "          const element = document.querySelector('#df-0331303d-1514-4b23-8287-91e0a49a00b8');\n",
              "          const dataTable =\n",
              "            await google.colab.kernel.invokeFunction('convertToInteractive',\n",
              "                                                     [key], {});\n",
              "          if (!dataTable) return;\n",
              "\n",
              "          const docLinkHtml = 'Like what you see? Visit the ' +\n",
              "            '<a target=\"_blank\" href=https://colab.research.google.com/notebooks/data_table.ipynb>data table notebook</a>'\n",
              "            + ' to learn more about interactive tables.';\n",
              "          element.innerHTML = '';\n",
              "          dataTable['output_type'] = 'display_data';\n",
              "          await google.colab.output.renderOutput(dataTable, element);\n",
              "          const docLink = document.createElement('div');\n",
              "          docLink.innerHTML = docLinkHtml;\n",
              "          element.appendChild(docLink);\n",
              "        }\n",
              "      </script>\n",
              "    </div>\n",
              "  </div>\n",
              "  "
            ]
          },
          "metadata": {},
          "execution_count": 49
        }
      ]
    },
    {
      "cell_type": "code",
      "source": [
        "# Tipo de dados\n",
        "df.dtypes"
      ],
      "metadata": {
        "colab": {
          "base_uri": "https://localhost:8080/"
        },
        "id": "bvCe2tQomN5C",
        "outputId": "01a91fac-efbe-4a44-be91-e4132ab9390d"
      },
      "execution_count": 50,
      "outputs": [
        {
          "output_type": "execute_result",
          "data": {
            "text/plain": [
              "id                                  int64\n",
              "name                               object\n",
              "host_id                             int64\n",
              "host_name                          object\n",
              "neighbourhood_group                object\n",
              "neighbourhood                      object\n",
              "latitude                          float64\n",
              "longitude                         float64\n",
              "room_type                          object\n",
              "price                               int64\n",
              "minimum_nights                      int64\n",
              "number_of_reviews                   int64\n",
              "last_review                        object\n",
              "reviews_per_month                 float64\n",
              "calculated_host_listings_count      int64\n",
              "availability_365                    int64\n",
              "number_of_reviews_ltm               int64\n",
              "license                            object\n",
              "dtype: object"
            ]
          },
          "metadata": {},
          "execution_count": 50
        }
      ]
    },
    {
      "cell_type": "markdown",
      "source": [
        "  Após verificação dos dados carregados neste *dataset* é possível entender que o mesmo compreende **18 colunas (variáveis) e 4153 entradas** até o presente momento. Dados com muita informação para uma investigação mais profunda e uma análise do contexto, também já é possível notar que existem alguns **dados faltantes** - Listados como **NaN**"
      ],
      "metadata": {
        "id": "V1K_ZqdBmxW6"
      }
    },
    {
      "cell_type": "code",
      "source": [
        "# Entendendo Dados Ausentes (NaN)\n",
        "df.isnull().sum().sort_values(ascending=False)"
      ],
      "metadata": {
        "colab": {
          "base_uri": "https://localhost:8080/"
        },
        "id": "59H1RCfYoz0M",
        "outputId": "a1ec2ff1-69cf-459b-e835-b5d0809f346c"
      },
      "execution_count": 51,
      "outputs": [
        {
          "output_type": "execute_result",
          "data": {
            "text/plain": [
              "license                           41532\n",
              "reviews_per_month                  9393\n",
              "last_review                        9393\n",
              "name                                 13\n",
              "host_name                             5\n",
              "minimum_nights                        0\n",
              "number_of_reviews_ltm                 0\n",
              "availability_365                      0\n",
              "calculated_host_listings_count        0\n",
              "number_of_reviews                     0\n",
              "id                                    0\n",
              "room_type                             0\n",
              "longitude                             0\n",
              "latitude                              0\n",
              "neighbourhood                         0\n",
              "neighbourhood_group                   0\n",
              "host_id                               0\n",
              "price                                 0\n",
              "dtype: int64"
            ]
          },
          "metadata": {},
          "execution_count": 51
        }
      ]
    },
    {
      "cell_type": "code",
      "source": [
        "# Dados ausentes (NaN) em percentual\n",
        "(df.isnull().sum() / df.shape[0]).sort_values(ascending=False)*100"
      ],
      "metadata": {
        "colab": {
          "base_uri": "https://localhost:8080/"
        },
        "id": "8W-OAgrETcja",
        "outputId": "02ad38cc-b61f-4b97-8504-8b0fff65664f"
      },
      "execution_count": 54,
      "outputs": [
        {
          "output_type": "execute_result",
          "data": {
            "text/plain": [
              "license                           99.997592\n",
              "reviews_per_month                 22.615751\n",
              "last_review                       22.615751\n",
              "name                               0.031300\n",
              "host_name                          0.012039\n",
              "minimum_nights                     0.000000\n",
              "number_of_reviews_ltm              0.000000\n",
              "availability_365                   0.000000\n",
              "calculated_host_listings_count     0.000000\n",
              "number_of_reviews                  0.000000\n",
              "id                                 0.000000\n",
              "room_type                          0.000000\n",
              "longitude                          0.000000\n",
              "latitude                           0.000000\n",
              "neighbourhood                      0.000000\n",
              "neighbourhood_group                0.000000\n",
              "host_id                            0.000000\n",
              "price                              0.000000\n",
              "dtype: float64"
            ]
          },
          "metadata": {},
          "execution_count": 54
        }
      ]
    },
    {
      "cell_type": "markdown",
      "source": [
        "Em nosso caso, os dados ausentes observados não precisam de muita atenção. Observando a natureza de nosso conjunto de dados, podemos afirmar que: a coluna **\"license\" não possui nenhuma entrada** e após algumas pesquisas, notei que em dados mais antigos esse atributo não existia, assumindo assim que seja uma nova classificação e dessa forma podemos simplismente **excluí-los**, assim como a coluna **\"host_name\"** que é de certa forma **irrelevante** para nossa análise.\n",
        "\n",
        "Já as colunas **\"last_review\" e \"review_per_month\"** precisam de um manuseio muito simples:\n",
        "\n",
        "\n",
        "Para elaborar, **\"last_review\" é a data; se não houver comentários para a listagem - a data simplesmente não existirá**, portanto, anexar esses valores não é necessário. Para a coluna **\"review_per_month\"**, podemos simplesmente **acrescentar 0,0 para valores ausentes**; Assim esta coluna em **\"number_of_review\" terá o valor 0**, **seguindo essa lógica** com 0 total de reviews teremos 0,0 taxa de reviews por mês. Dessa forma eliminando os dados ausentes para ambos atributos.\n",
        "\n",
        "A coluna **name** possui 13 (0,03%) valores ausentes, porém não impactará em análises futuras."
      ],
      "metadata": {
        "id": "mE8aebyDpeS4"
      }
    },
    {
      "cell_type": "code",
      "source": [
        "# Limpando dados listados acima\n",
        "\n",
        "df.drop(['license', 'host_name'], axis=1, inplace=True)\n",
        "\n",
        "# Verificando a limpeza\n",
        "df.head(3)"
      ],
      "metadata": {
        "colab": {
          "base_uri": "https://localhost:8080/",
          "height": 311
        },
        "id": "GyuA_JZMWNMj",
        "outputId": "e4495a28-6f71-4f2a-b9d5-12038580707e"
      },
      "execution_count": 8,
      "outputs": [
        {
          "output_type": "execute_result",
          "data": {
            "text/plain": [
              "     id                                      name  host_id  \\\n",
              "0  5136  Spacious Brooklyn Duplex, Patio + Garden     7378   \n",
              "1  5203        Cozy Clean Guest Room - Family Apt     7490   \n",
              "2  5121                           BlissArtsSpace!     7356   \n",
              "\n",
              "  neighbourhood_group       neighbourhood  latitude  longitude  \\\n",
              "0            Brooklyn         Sunset Park  40.66265  -73.99454   \n",
              "1           Manhattan     Upper West Side  40.80380  -73.96751   \n",
              "2            Brooklyn  Bedford-Stuyvesant  40.68535  -73.95512   \n",
              "\n",
              "         room_type  price  minimum_nights  number_of_reviews last_review  \\\n",
              "0  Entire home/apt    275              21                  3  2022-08-10   \n",
              "1     Private room     75               2                118  2017-07-21   \n",
              "2     Private room     60              30                 50  2019-12-02   \n",
              "\n",
              "   reviews_per_month  calculated_host_listings_count  availability_365  \\\n",
              "0               0.03                               1               267   \n",
              "1               0.73                               1                 0   \n",
              "2               0.30                               2               322   \n",
              "\n",
              "   number_of_reviews_ltm  \n",
              "0                      1  \n",
              "1                      0  \n",
              "2                      0  "
            ],
            "text/html": [
              "\n",
              "  <div id=\"df-b1ac9cd7-7a41-44b4-8e2e-12ca95f7b243\">\n",
              "    <div class=\"colab-df-container\">\n",
              "      <div>\n",
              "<style scoped>\n",
              "    .dataframe tbody tr th:only-of-type {\n",
              "        vertical-align: middle;\n",
              "    }\n",
              "\n",
              "    .dataframe tbody tr th {\n",
              "        vertical-align: top;\n",
              "    }\n",
              "\n",
              "    .dataframe thead th {\n",
              "        text-align: right;\n",
              "    }\n",
              "</style>\n",
              "<table border=\"1\" class=\"dataframe\">\n",
              "  <thead>\n",
              "    <tr style=\"text-align: right;\">\n",
              "      <th></th>\n",
              "      <th>id</th>\n",
              "      <th>name</th>\n",
              "      <th>host_id</th>\n",
              "      <th>neighbourhood_group</th>\n",
              "      <th>neighbourhood</th>\n",
              "      <th>latitude</th>\n",
              "      <th>longitude</th>\n",
              "      <th>room_type</th>\n",
              "      <th>price</th>\n",
              "      <th>minimum_nights</th>\n",
              "      <th>number_of_reviews</th>\n",
              "      <th>last_review</th>\n",
              "      <th>reviews_per_month</th>\n",
              "      <th>calculated_host_listings_count</th>\n",
              "      <th>availability_365</th>\n",
              "      <th>number_of_reviews_ltm</th>\n",
              "    </tr>\n",
              "  </thead>\n",
              "  <tbody>\n",
              "    <tr>\n",
              "      <th>0</th>\n",
              "      <td>5136</td>\n",
              "      <td>Spacious Brooklyn Duplex, Patio + Garden</td>\n",
              "      <td>7378</td>\n",
              "      <td>Brooklyn</td>\n",
              "      <td>Sunset Park</td>\n",
              "      <td>40.66265</td>\n",
              "      <td>-73.99454</td>\n",
              "      <td>Entire home/apt</td>\n",
              "      <td>275</td>\n",
              "      <td>21</td>\n",
              "      <td>3</td>\n",
              "      <td>2022-08-10</td>\n",
              "      <td>0.03</td>\n",
              "      <td>1</td>\n",
              "      <td>267</td>\n",
              "      <td>1</td>\n",
              "    </tr>\n",
              "    <tr>\n",
              "      <th>1</th>\n",
              "      <td>5203</td>\n",
              "      <td>Cozy Clean Guest Room - Family Apt</td>\n",
              "      <td>7490</td>\n",
              "      <td>Manhattan</td>\n",
              "      <td>Upper West Side</td>\n",
              "      <td>40.80380</td>\n",
              "      <td>-73.96751</td>\n",
              "      <td>Private room</td>\n",
              "      <td>75</td>\n",
              "      <td>2</td>\n",
              "      <td>118</td>\n",
              "      <td>2017-07-21</td>\n",
              "      <td>0.73</td>\n",
              "      <td>1</td>\n",
              "      <td>0</td>\n",
              "      <td>0</td>\n",
              "    </tr>\n",
              "    <tr>\n",
              "      <th>2</th>\n",
              "      <td>5121</td>\n",
              "      <td>BlissArtsSpace!</td>\n",
              "      <td>7356</td>\n",
              "      <td>Brooklyn</td>\n",
              "      <td>Bedford-Stuyvesant</td>\n",
              "      <td>40.68535</td>\n",
              "      <td>-73.95512</td>\n",
              "      <td>Private room</td>\n",
              "      <td>60</td>\n",
              "      <td>30</td>\n",
              "      <td>50</td>\n",
              "      <td>2019-12-02</td>\n",
              "      <td>0.30</td>\n",
              "      <td>2</td>\n",
              "      <td>322</td>\n",
              "      <td>0</td>\n",
              "    </tr>\n",
              "  </tbody>\n",
              "</table>\n",
              "</div>\n",
              "      <button class=\"colab-df-convert\" onclick=\"convertToInteractive('df-b1ac9cd7-7a41-44b4-8e2e-12ca95f7b243')\"\n",
              "              title=\"Convert this dataframe to an interactive table.\"\n",
              "              style=\"display:none;\">\n",
              "        \n",
              "  <svg xmlns=\"http://www.w3.org/2000/svg\" height=\"24px\"viewBox=\"0 0 24 24\"\n",
              "       width=\"24px\">\n",
              "    <path d=\"M0 0h24v24H0V0z\" fill=\"none\"/>\n",
              "    <path d=\"M18.56 5.44l.94 2.06.94-2.06 2.06-.94-2.06-.94-.94-2.06-.94 2.06-2.06.94zm-11 1L8.5 8.5l.94-2.06 2.06-.94-2.06-.94L8.5 2.5l-.94 2.06-2.06.94zm10 10l.94 2.06.94-2.06 2.06-.94-2.06-.94-.94-2.06-.94 2.06-2.06.94z\"/><path d=\"M17.41 7.96l-1.37-1.37c-.4-.4-.92-.59-1.43-.59-.52 0-1.04.2-1.43.59L10.3 9.45l-7.72 7.72c-.78.78-.78 2.05 0 2.83L4 21.41c.39.39.9.59 1.41.59.51 0 1.02-.2 1.41-.59l7.78-7.78 2.81-2.81c.8-.78.8-2.07 0-2.86zM5.41 20L4 18.59l7.72-7.72 1.47 1.35L5.41 20z\"/>\n",
              "  </svg>\n",
              "      </button>\n",
              "      \n",
              "  <style>\n",
              "    .colab-df-container {\n",
              "      display:flex;\n",
              "      flex-wrap:wrap;\n",
              "      gap: 12px;\n",
              "    }\n",
              "\n",
              "    .colab-df-convert {\n",
              "      background-color: #E8F0FE;\n",
              "      border: none;\n",
              "      border-radius: 50%;\n",
              "      cursor: pointer;\n",
              "      display: none;\n",
              "      fill: #1967D2;\n",
              "      height: 32px;\n",
              "      padding: 0 0 0 0;\n",
              "      width: 32px;\n",
              "    }\n",
              "\n",
              "    .colab-df-convert:hover {\n",
              "      background-color: #E2EBFA;\n",
              "      box-shadow: 0px 1px 2px rgba(60, 64, 67, 0.3), 0px 1px 3px 1px rgba(60, 64, 67, 0.15);\n",
              "      fill: #174EA6;\n",
              "    }\n",
              "\n",
              "    [theme=dark] .colab-df-convert {\n",
              "      background-color: #3B4455;\n",
              "      fill: #D2E3FC;\n",
              "    }\n",
              "\n",
              "    [theme=dark] .colab-df-convert:hover {\n",
              "      background-color: #434B5C;\n",
              "      box-shadow: 0px 1px 3px 1px rgba(0, 0, 0, 0.15);\n",
              "      filter: drop-shadow(0px 1px 2px rgba(0, 0, 0, 0.3));\n",
              "      fill: #FFFFFF;\n",
              "    }\n",
              "  </style>\n",
              "\n",
              "      <script>\n",
              "        const buttonEl =\n",
              "          document.querySelector('#df-b1ac9cd7-7a41-44b4-8e2e-12ca95f7b243 button.colab-df-convert');\n",
              "        buttonEl.style.display =\n",
              "          google.colab.kernel.accessAllowed ? 'block' : 'none';\n",
              "\n",
              "        async function convertToInteractive(key) {\n",
              "          const element = document.querySelector('#df-b1ac9cd7-7a41-44b4-8e2e-12ca95f7b243');\n",
              "          const dataTable =\n",
              "            await google.colab.kernel.invokeFunction('convertToInteractive',\n",
              "                                                     [key], {});\n",
              "          if (!dataTable) return;\n",
              "\n",
              "          const docLinkHtml = 'Like what you see? Visit the ' +\n",
              "            '<a target=\"_blank\" href=https://colab.research.google.com/notebooks/data_table.ipynb>data table notebook</a>'\n",
              "            + ' to learn more about interactive tables.';\n",
              "          element.innerHTML = '';\n",
              "          dataTable['output_type'] = 'display_data';\n",
              "          await google.colab.output.renderOutput(dataTable, element);\n",
              "          const docLink = document.createElement('div');\n",
              "          docLink.innerHTML = docLinkHtml;\n",
              "          element.appendChild(docLink);\n",
              "        }\n",
              "      </script>\n",
              "    </div>\n",
              "  </div>\n",
              "  "
            ]
          },
          "metadata": {},
          "execution_count": 8
        }
      ]
    },
    {
      "cell_type": "code",
      "source": [
        "# Alterando 'reviews_per_month\" = 0\n",
        "df.fillna({'reviews_per_month':0 , 'last_review' :0}, inplace=True)"
      ],
      "metadata": {
        "id": "acD-XeufWhGS"
      },
      "execution_count": 9,
      "outputs": []
    },
    {
      "cell_type": "code",
      "source": [
        "# verificando alterações - Após limpeza, não existem mais dados vázios e agora temos 16 variáveis\n",
        "df.isnull().sum().sort_values(ascending=False)"
      ],
      "metadata": {
        "colab": {
          "base_uri": "https://localhost:8080/"
        },
        "id": "zuQeW1QGYmfG",
        "outputId": "eaa73cd3-bc83-4023-b674-ba9755aa43f4"
      },
      "execution_count": 10,
      "outputs": [
        {
          "output_type": "execute_result",
          "data": {
            "text/plain": [
              "name                              13\n",
              "id                                 0\n",
              "host_id                            0\n",
              "neighbourhood_group                0\n",
              "neighbourhood                      0\n",
              "latitude                           0\n",
              "longitude                          0\n",
              "room_type                          0\n",
              "price                              0\n",
              "minimum_nights                     0\n",
              "number_of_reviews                  0\n",
              "last_review                        0\n",
              "reviews_per_month                  0\n",
              "calculated_host_listings_count     0\n",
              "availability_365                   0\n",
              "number_of_reviews_ltm              0\n",
              "dtype: int64"
            ]
          },
          "metadata": {},
          "execution_count": 10
        }
      ]
    },
    {
      "cell_type": "code",
      "source": [
        "# Verificação das variáveis númericas\n",
        "df[['price', 'minimum_nights', 'number_of_reviews', 'reviews_per_month',\n",
        "    'calculated_host_listings_count', 'availability_365']].describe().round(1)\n"
      ],
      "metadata": {
        "colab": {
          "base_uri": "https://localhost:8080/",
          "height": 300
        },
        "id": "PiWhwDhUa6Fj",
        "outputId": "b201308b-ceb2-4d27-9d5d-25e41c0c3362"
      },
      "execution_count": 11,
      "outputs": [
        {
          "output_type": "execute_result",
          "data": {
            "text/plain": [
              "         price  minimum_nights  number_of_reviews  reviews_per_month  \\\n",
              "count  41533.0         41533.0            41533.0            41533.0   \n",
              "mean     222.0            18.6               26.2                1.0   \n",
              "std      919.5            30.7               56.2                1.8   \n",
              "min        0.0             1.0                0.0                0.0   \n",
              "25%       80.0             2.0                1.0                0.0   \n",
              "50%      131.0            10.0                5.0                0.3   \n",
              "75%      220.0            30.0               25.0                1.4   \n",
              "max    98159.0          1250.0             1666.0              103.0   \n",
              "\n",
              "       calculated_host_listings_count  availability_365  \n",
              "count                         41533.0           41533.0  \n",
              "mean                             20.6             143.3  \n",
              "std                              68.9             144.3  \n",
              "min                               1.0               0.0  \n",
              "25%                               1.0               0.0  \n",
              "50%                               1.0              87.0  \n",
              "75%                               4.0             312.0  \n",
              "max                             487.0             365.0  "
            ],
            "text/html": [
              "\n",
              "  <div id=\"df-60838dc6-9e6c-418d-ad81-45c2c92b6962\">\n",
              "    <div class=\"colab-df-container\">\n",
              "      <div>\n",
              "<style scoped>\n",
              "    .dataframe tbody tr th:only-of-type {\n",
              "        vertical-align: middle;\n",
              "    }\n",
              "\n",
              "    .dataframe tbody tr th {\n",
              "        vertical-align: top;\n",
              "    }\n",
              "\n",
              "    .dataframe thead th {\n",
              "        text-align: right;\n",
              "    }\n",
              "</style>\n",
              "<table border=\"1\" class=\"dataframe\">\n",
              "  <thead>\n",
              "    <tr style=\"text-align: right;\">\n",
              "      <th></th>\n",
              "      <th>price</th>\n",
              "      <th>minimum_nights</th>\n",
              "      <th>number_of_reviews</th>\n",
              "      <th>reviews_per_month</th>\n",
              "      <th>calculated_host_listings_count</th>\n",
              "      <th>availability_365</th>\n",
              "    </tr>\n",
              "  </thead>\n",
              "  <tbody>\n",
              "    <tr>\n",
              "      <th>count</th>\n",
              "      <td>41533.0</td>\n",
              "      <td>41533.0</td>\n",
              "      <td>41533.0</td>\n",
              "      <td>41533.0</td>\n",
              "      <td>41533.0</td>\n",
              "      <td>41533.0</td>\n",
              "    </tr>\n",
              "    <tr>\n",
              "      <th>mean</th>\n",
              "      <td>222.0</td>\n",
              "      <td>18.6</td>\n",
              "      <td>26.2</td>\n",
              "      <td>1.0</td>\n",
              "      <td>20.6</td>\n",
              "      <td>143.3</td>\n",
              "    </tr>\n",
              "    <tr>\n",
              "      <th>std</th>\n",
              "      <td>919.5</td>\n",
              "      <td>30.7</td>\n",
              "      <td>56.2</td>\n",
              "      <td>1.8</td>\n",
              "      <td>68.9</td>\n",
              "      <td>144.3</td>\n",
              "    </tr>\n",
              "    <tr>\n",
              "      <th>min</th>\n",
              "      <td>0.0</td>\n",
              "      <td>1.0</td>\n",
              "      <td>0.0</td>\n",
              "      <td>0.0</td>\n",
              "      <td>1.0</td>\n",
              "      <td>0.0</td>\n",
              "    </tr>\n",
              "    <tr>\n",
              "      <th>25%</th>\n",
              "      <td>80.0</td>\n",
              "      <td>2.0</td>\n",
              "      <td>1.0</td>\n",
              "      <td>0.0</td>\n",
              "      <td>1.0</td>\n",
              "      <td>0.0</td>\n",
              "    </tr>\n",
              "    <tr>\n",
              "      <th>50%</th>\n",
              "      <td>131.0</td>\n",
              "      <td>10.0</td>\n",
              "      <td>5.0</td>\n",
              "      <td>0.3</td>\n",
              "      <td>1.0</td>\n",
              "      <td>87.0</td>\n",
              "    </tr>\n",
              "    <tr>\n",
              "      <th>75%</th>\n",
              "      <td>220.0</td>\n",
              "      <td>30.0</td>\n",
              "      <td>25.0</td>\n",
              "      <td>1.4</td>\n",
              "      <td>4.0</td>\n",
              "      <td>312.0</td>\n",
              "    </tr>\n",
              "    <tr>\n",
              "      <th>max</th>\n",
              "      <td>98159.0</td>\n",
              "      <td>1250.0</td>\n",
              "      <td>1666.0</td>\n",
              "      <td>103.0</td>\n",
              "      <td>487.0</td>\n",
              "      <td>365.0</td>\n",
              "    </tr>\n",
              "  </tbody>\n",
              "</table>\n",
              "</div>\n",
              "      <button class=\"colab-df-convert\" onclick=\"convertToInteractive('df-60838dc6-9e6c-418d-ad81-45c2c92b6962')\"\n",
              "              title=\"Convert this dataframe to an interactive table.\"\n",
              "              style=\"display:none;\">\n",
              "        \n",
              "  <svg xmlns=\"http://www.w3.org/2000/svg\" height=\"24px\"viewBox=\"0 0 24 24\"\n",
              "       width=\"24px\">\n",
              "    <path d=\"M0 0h24v24H0V0z\" fill=\"none\"/>\n",
              "    <path d=\"M18.56 5.44l.94 2.06.94-2.06 2.06-.94-2.06-.94-.94-2.06-.94 2.06-2.06.94zm-11 1L8.5 8.5l.94-2.06 2.06-.94-2.06-.94L8.5 2.5l-.94 2.06-2.06.94zm10 10l.94 2.06.94-2.06 2.06-.94-2.06-.94-.94-2.06-.94 2.06-2.06.94z\"/><path d=\"M17.41 7.96l-1.37-1.37c-.4-.4-.92-.59-1.43-.59-.52 0-1.04.2-1.43.59L10.3 9.45l-7.72 7.72c-.78.78-.78 2.05 0 2.83L4 21.41c.39.39.9.59 1.41.59.51 0 1.02-.2 1.41-.59l7.78-7.78 2.81-2.81c.8-.78.8-2.07 0-2.86zM5.41 20L4 18.59l7.72-7.72 1.47 1.35L5.41 20z\"/>\n",
              "  </svg>\n",
              "      </button>\n",
              "      \n",
              "  <style>\n",
              "    .colab-df-container {\n",
              "      display:flex;\n",
              "      flex-wrap:wrap;\n",
              "      gap: 12px;\n",
              "    }\n",
              "\n",
              "    .colab-df-convert {\n",
              "      background-color: #E8F0FE;\n",
              "      border: none;\n",
              "      border-radius: 50%;\n",
              "      cursor: pointer;\n",
              "      display: none;\n",
              "      fill: #1967D2;\n",
              "      height: 32px;\n",
              "      padding: 0 0 0 0;\n",
              "      width: 32px;\n",
              "    }\n",
              "\n",
              "    .colab-df-convert:hover {\n",
              "      background-color: #E2EBFA;\n",
              "      box-shadow: 0px 1px 2px rgba(60, 64, 67, 0.3), 0px 1px 3px 1px rgba(60, 64, 67, 0.15);\n",
              "      fill: #174EA6;\n",
              "    }\n",
              "\n",
              "    [theme=dark] .colab-df-convert {\n",
              "      background-color: #3B4455;\n",
              "      fill: #D2E3FC;\n",
              "    }\n",
              "\n",
              "    [theme=dark] .colab-df-convert:hover {\n",
              "      background-color: #434B5C;\n",
              "      box-shadow: 0px 1px 3px 1px rgba(0, 0, 0, 0.15);\n",
              "      filter: drop-shadow(0px 1px 2px rgba(0, 0, 0, 0.3));\n",
              "      fill: #FFFFFF;\n",
              "    }\n",
              "  </style>\n",
              "\n",
              "      <script>\n",
              "        const buttonEl =\n",
              "          document.querySelector('#df-60838dc6-9e6c-418d-ad81-45c2c92b6962 button.colab-df-convert');\n",
              "        buttonEl.style.display =\n",
              "          google.colab.kernel.accessAllowed ? 'block' : 'none';\n",
              "\n",
              "        async function convertToInteractive(key) {\n",
              "          const element = document.querySelector('#df-60838dc6-9e6c-418d-ad81-45c2c92b6962');\n",
              "          const dataTable =\n",
              "            await google.colab.kernel.invokeFunction('convertToInteractive',\n",
              "                                                     [key], {});\n",
              "          if (!dataTable) return;\n",
              "\n",
              "          const docLinkHtml = 'Like what you see? Visit the ' +\n",
              "            '<a target=\"_blank\" href=https://colab.research.google.com/notebooks/data_table.ipynb>data table notebook</a>'\n",
              "            + ' to learn more about interactive tables.';\n",
              "          element.innerHTML = '';\n",
              "          dataTable['output_type'] = 'display_data';\n",
              "          await google.colab.output.renderOutput(dataTable, element);\n",
              "          const docLink = document.createElement('div');\n",
              "          docLink.innerHTML = docLinkHtml;\n",
              "          element.appendChild(docLink);\n",
              "        }\n",
              "      </script>\n",
              "    </div>\n",
              "  </div>\n",
              "  "
            ]
          },
          "metadata": {},
          "execution_count": 11
        }
      ]
    },
    {
      "cell_type": "markdown",
      "source": [
        "###**Identificando *outliers***\n",
        "\n",
        "Observando estes dados acima podemos notar algumas questões:\n",
        "\n",
        "\n",
        "*   Em `price`, o preço máximo está muito longe da média e de Q2, Q3 e até mesmo Q4; também é possível notar que o preço mínimo listado é de zero, o que não faz sentido para este *dataset*\n",
        "*   Em `minimum_nights`também encontramos que o maior valor (1250) além de não fazer sentido, está muito acima da mediana\n",
        "*   Por fim, `number_of_reviews`e `reviews_per_month` também mostram valores máximos não confiáveis\n",
        "\n",
        "Estes pontos indicam ***outliers*** em nosso conjunto de dados, quais certamente afetarão qualquer análise que possa ser feita. Com intuíto de normalizar essas variações, à seguir faremos o tratamento destes ***outliers***\n",
        "\n",
        "\n",
        "\n"
      ],
      "metadata": {
        "id": "79h3Y7yoce1F"
      }
    },
    {
      "cell_type": "code",
      "source": [
        "# Verificando a distribuição dos dados e visualização gráfica dos outliers\n",
        "df.hist(figsize=(20,15), grid=False);"
      ],
      "metadata": {
        "colab": {
          "base_uri": "https://localhost:8080/",
          "height": 837
        },
        "id": "XbEMMdk4kaQO",
        "outputId": "be807319-771b-409d-bf7b-f872c656b5fc"
      },
      "execution_count": 12,
      "outputs": [
        {
          "output_type": "display_data",
          "data": {
            "text/plain": [
              "<Figure size 1440x1080 with 12 Axes>"
            ],
            "image/png": "[encoded data removed]"
          },
          "metadata": {
            "needs_background": "light"
          }
        }
      ]
    },
    {
      "cell_type": "markdown",
      "source": [
        "###**Tratando *Outliers***\n",
        "\n",
        "Tanto para `price`e `minimum_nights`, iremos utilizar a técnica de IQR Score para aproximar os valores discrepantes de uma realidade mais próxima com a média que nos permita fazer análises mais acertivas.\n",
        "\n",
        "\n",
        "####**IQR Score**\n",
        "\n",
        "Tanto o desvio padrão quanto a variância dependem da média, portanto, são afetados por valores extremos. Mas há uma medida de dispersão baseada na mediana, que consegue contornar a presença destes outliers: a variação interquartil, abreviada para IQR em inglês.\n",
        "\n",
        "Para descobrir a variação interquartil, primeiramente, dividimos os dados em duas metades, como na mediana, para em seguida refazer esta operação com cada uma das duas metades. Obtemos então quatro partes iguais – ou quartis.\n",
        "\n",
        "Agora, você subtrai a mediana da metade superior (terceiro quartil ou Q3) com a mediana da metade inferior (primeiro quartil ou Q1). A vantagem deste método é que ele, por definição, já isola os outliers, seja inferiores ou superiores.\n",
        "\n",
        "<p align=\"center\"><img src=\"https://escoladedados.org/wp-content/uploads/2019/06/Captura-de-Tela-2019-06-13-a%CC%80s-14.46.46-768x374.png\n",
        "\", width=\"50%\"></p>\n",
        "\n"
      ],
      "metadata": {
        "id": "TC1H8ojyyAZf"
      }
    },
    {
      "cell_type": "code",
      "source": [
        "# Usando a variavel price como exemplo prático de ilustração \n",
        "plt.subplots(figsize=(15,3))\n",
        "df.price.plot(kind='box', vert=False);\n"
      ],
      "metadata": {
        "colab": {
          "base_uri": "https://localhost:8080/",
          "height": 211
        },
        "id": "SZGw8bXuRT1S",
        "outputId": "9e706603-f317-46f2-c3b5-44bd7aebd115"
      },
      "execution_count": 13,
      "outputs": [
        {
          "output_type": "display_data",
          "data": {
            "text/plain": [
              "<Figure size 1080x216 with 1 Axes>"
            ],
            "image/png": "[encoded data removed]"
          },
          "metadata": {
            "needs_background": "light"
          }
        }
      ]
    },
    {
      "cell_type": "code",
      "source": [
        "# Definir limites sup e inf - Price / Minimum nights\n",
        "\n",
        "q1_price = df.price.quantile(.25)\n",
        "q3_price = df.price.quantile(.75)\n",
        "IQR_price = q3_price - q1_price\n",
        "print('IQR da variável price: ', IQR_price)\n",
        "\n",
        "sup_price = q3_price + 1.5 * IQR_price\n",
        "inf_price = q1_price - 1.5 * IQR_price\n",
        "\n",
        "print('Limite superior de price: ', sup_price)\n",
        "print('Limite inferior de price: ', inf_price)\n",
        "print(\"O dataset possui {} colunas\".format(df.shape[0]))\n",
        "print(\"{} Entradas acima de 430\".format(len(df[df.price > 430])))\n",
        "print(\"Representam {:.2f}% do dataset\".format((len(df[df.price >430]) / df.shape[0])*100))\n",
        "\n",
        "\n",
        "q1_minimum_nights = df.minimum_nights.quantile(.25)\n",
        "q3_minimum_nights = df.minimum_nights.quantile(.75)\n",
        "IQR_minimum_nights = q3_minimum_nights - q1_minimum_nights\n",
        "print('IQR da variável minimum_nights: ', IQR_minimum_nights)\n",
        "\n",
        "sup_minimum_nights = q3_minimum_nights + 1.5 * IQR_minimum_nights\n",
        "inf_minimum_nights = q1_minimum_nights - 1.5 * IQR_minimum_nights\n",
        "\n",
        "print('Limite superior de minimum_nights: ', sup_minimum_nights)\n",
        "print('Limite inferior de minimum_nights: ', inf_minimum_nights)\n",
        "print(\"O dataset possui {} colunas\".format(df.shape[0]))\n",
        "print(\"{} Entradas acima de 72\".format(len(df[df.minimum_nights > 72.0])))\n",
        "print(\"Representam {:.2f}% do dataset\".format((len(df[df.minimum_nights > 72.0]) / df.shape[0])*100))\n",
        "\n",
        "\n",
        "\n"
      ],
      "metadata": {
        "colab": {
          "base_uri": "https://localhost:8080/"
        },
        "id": "-lNAujaBU-3W",
        "outputId": "e339d244-36e4-4d22-9215-635c5c3a6885"
      },
      "execution_count": 14,
      "outputs": [
        {
          "output_type": "stream",
          "name": "stdout",
          "text": [
            "IQR da variável price:  140.0\n",
            "Limite superior de price:  430.0\n",
            "Limite inferior de price:  -130.0\n",
            "O dataset possui 41533 colunas\n",
            "3217 Entradas acima de 430\n",
            "Representam 7.75% do dataset\n",
            "IQR da variável minimum_nights:  28.0\n",
            "Limite superior de minimum_nights:  72.0\n",
            "Limite inferior de minimum_nights:  -40.0\n",
            "O dataset possui 41533 colunas\n",
            "873 Entradas acima de 72\n",
            "Representam 2.10% do dataset\n"
          ]
        }
      ]
    },
    {
      "cell_type": "code",
      "source": [
        "#Entendendo a distribuição de minimun_nights em grupos\n",
        "pd.cut(df['minimum_nights'], 100).value_counts(ascending=False, normalize=True)*100\n"
      ],
      "metadata": {
        "colab": {
          "base_uri": "https://localhost:8080/"
        },
        "id": "r2otVydUtfPr",
        "outputId": "33e2d6ee-c0a7-4c01-8b1b-dac4d39adf37"
      },
      "execution_count": 15,
      "outputs": [
        {
          "output_type": "execute_result",
          "data": {
            "text/plain": [
              "(-0.249, 13.49]     50.610358\n",
              "(25.98, 38.47]      44.928129\n",
              "(13.49, 25.98]       1.695038\n",
              "(88.43, 100.92]      1.418149\n",
              "(50.96, 63.45]       0.481545\n",
              "                      ...    \n",
              "(750.4, 762.89]      0.000000\n",
              "(762.89, 775.38]     0.000000\n",
              "(775.38, 787.87]     0.000000\n",
              "(787.87, 800.36]     0.000000\n",
              "(625.5, 637.99]      0.000000\n",
              "Name: minimum_nights, Length: 100, dtype: float64"
            ]
          },
          "metadata": {},
          "execution_count": 15
        }
      ]
    },
    {
      "cell_type": "markdown",
      "source": [
        "Ainda que usando uma base estatística, podemos observar que os valores de `minimum_nights`ainda se encontram elevados, carrengando ainda um possíveis *outliers* - Vamos assumir o valor máximo de 30 dias para `minimum_nights`, uma vez que o grupo de 25 à 38 representam 44% das entradas e analisar quais os impactos dessa decisão."
      ],
      "metadata": {
        "id": "uq3pJk4Bk-WY"
      }
    },
    {
      "cell_type": "code",
      "source": [
        "print(\"O dataset possui {} colunas\".format(df.shape[0]))\n",
        "print(\"{} Entradas acima de 30\".format(len(df[df.minimum_nights > 30.0])))\n",
        "print(\"Representam {:.2f}% do dataset\".format((len(df[df.minimum_nights > 30.0]) / df.shape[0])*100))"
      ],
      "metadata": {
        "colab": {
          "base_uri": "https://localhost:8080/"
        },
        "id": "naz0dAs9lvZW",
        "outputId": "7f97b16d-9d63-4b15-de1c-bee2f65a3678"
      },
      "execution_count": 16,
      "outputs": [
        {
          "output_type": "stream",
          "name": "stdout",
          "text": [
            "O dataset possui 41533 colunas\n",
            "1930 Entradas acima de 30\n",
            "Representam 4.65% do dataset\n"
          ]
        }
      ]
    },
    {
      "cell_type": "markdown",
      "source": [
        "Assumindo 30 como o valor de `minimum_nights`teriamos uma menor poluição dos dados e comprometeria apenas 4,65% das entradas, um risco que pode ser assumido para maior acuracidade dos resultados no final."
      ],
      "metadata": {
        "id": "jPbBherhmCA4"
      }
    },
    {
      "cell_type": "markdown",
      "source": [
        "###**Limpeza do *dataset***"
      ],
      "metadata": {
        "id": "g1pTJYugm2bm"
      }
    },
    {
      "cell_type": "code",
      "source": [
        "df_clean = df.copy()\n",
        "\n",
        "df_clean.drop(df_clean[df_clean.price > 430].index, axis=0, inplace=True)\n",
        "df_clean.drop(df_clean[df_clean.price == 0.0].index, axis=0, inplace=True)\n",
        "df_clean.drop(df_clean[df_clean.minimum_nights > 30].index, axis=0, inplace=True)\n",
        "\n",
        "print('Dimensões do Dataset antes da limpeza:',\n",
        "    '\\nVariáveis: ',df.shape[1], \"\\n\"\n",
        "      'Entradas: ', df.shape[0])\n",
        "\n",
        "print('Dimensões do Dataset depois da limpeza:',\n",
        "    '\\nVariáveis: ',df_clean.shape[1], \"\\n\"\n",
        "      'Entradas: ', df_clean.shape[0])\n",
        "\n",
        "#print(\"Os dados alterados representam {:.2f}% do dataset\"df.shape[1]"
      ],
      "metadata": {
        "colab": {
          "base_uri": "https://localhost:8080/"
        },
        "id": "lyJhoA1fnHP0",
        "outputId": "d72b7cbb-23d4-4a9f-c450-ee8267d39cc5"
      },
      "execution_count": 17,
      "outputs": [
        {
          "output_type": "stream",
          "name": "stdout",
          "text": [
            "Dimensões do Dataset antes da limpeza: \n",
            "Variáveis:  16 \n",
            "Entradas:  41533\n",
            "Dimensões do Dataset depois da limpeza: \n",
            "Variáveis:  16 \n",
            "Entradas:  36506\n"
          ]
        }
      ]
    },
    {
      "cell_type": "code",
      "source": [
        "# Verificação do conjunto após limpeza\n",
        "df_clean.hist(figsize=(20,15), grid=False);"
      ],
      "metadata": {
        "colab": {
          "base_uri": "https://localhost:8080/",
          "height": 838
        },
        "id": "V6EumWgqsVvs",
        "outputId": "ed01888e-97cd-416d-d1df-949e4e935a3b"
      },
      "execution_count": 18,
      "outputs": [
        {
          "output_type": "display_data",
          "data": {
            "text/plain": [
              "<Figure size 1440x1080 with 12 Axes>"
            ],
            "image/png": "[encoded data removed]"
          },
          "metadata": {
            "needs_background": "light"
          }
        }
      ]
    },
    {
      "cell_type": "code",
      "source": [
        "plt.subplots(figsize=(15,3))\n",
        "df_clean.price.plot(kind='box', vert=False);"
      ],
      "metadata": {
        "colab": {
          "base_uri": "https://localhost:8080/",
          "height": 211
        },
        "id": "_5NsftRELxpa",
        "outputId": "0613bce7-63f0-484b-986f-6dd62d476a49"
      },
      "execution_count": 19,
      "outputs": [
        {
          "output_type": "display_data",
          "data": {
            "text/plain": [
              "<Figure size 1080x216 with 1 Axes>"
            ],
            "image/png": "[encoded data removed]"
          },
          "metadata": {
            "needs_background": "light"
          }
        }
      ]
    },
    {
      "cell_type": "markdown",
      "source": [
        "Após limpeza é possível perceber nos gráficos uma condição muito mais satisfatória com uma redução significativa de *outliers* também é possível confirmar uma grande tendência à anúncios com `minimun_nights` de 30 dias. E por fim, podemos ver abaixo que os dados númericos em `price`e `minimum_nights`agora estão normalizados, trazendo seus valores máximos mais próximos de Q3 e média mais próxima de Q2 "
      ],
      "metadata": {
        "id": "rpvJZXsrME17"
      }
    },
    {
      "cell_type": "code",
      "source": [
        "df_clean[['price', 'minimum_nights', 'number_of_reviews', 'reviews_per_month',\n",
        "    'calculated_host_listings_count', 'availability_365']].describe().round(1)"
      ],
      "metadata": {
        "colab": {
          "base_uri": "https://localhost:8080/",
          "height": 300
        },
        "id": "zi81PwVyM36y",
        "outputId": "825bcb3b-a8ea-4ba1-ee59-4d29f9742aee"
      },
      "execution_count": 20,
      "outputs": [
        {
          "output_type": "execute_result",
          "data": {
            "text/plain": [
              "         price  minimum_nights  number_of_reviews  reviews_per_month  \\\n",
              "count  36506.0         36506.0            36506.0            36506.0   \n",
              "mean     145.2            15.8               27.7                1.0   \n",
              "std       88.2            13.6               56.1                1.6   \n",
              "min       10.0             1.0                0.0                0.0   \n",
              "25%       77.0             2.0                1.0                0.0   \n",
              "50%      124.0             7.0                6.0                0.3   \n",
              "75%      195.0            30.0               27.0                1.5   \n",
              "max      430.0            30.0             1503.0               51.0   \n",
              "\n",
              "       calculated_host_listings_count  availability_365  \n",
              "count                         36506.0           36506.0  \n",
              "mean                             12.1             136.7  \n",
              "std                              37.0             143.0  \n",
              "min                               1.0               0.0  \n",
              "25%                               1.0               0.0  \n",
              "50%                               1.0              77.0  \n",
              "75%                               3.0             305.0  \n",
              "max                             345.0             365.0  "
            ],
            "text/html": [
              "\n",
              "  <div id=\"df-ba139101-149c-4c0a-8343-e5a9b42c8142\">\n",
              "    <div class=\"colab-df-container\">\n",
              "      <div>\n",
              "<style scoped>\n",
              "    .dataframe tbody tr th:only-of-type {\n",
              "        vertical-align: middle;\n",
              "    }\n",
              "\n",
              "    .dataframe tbody tr th {\n",
              "        vertical-align: top;\n",
              "    }\n",
              "\n",
              "    .dataframe thead th {\n",
              "        text-align: right;\n",
              "    }\n",
              "</style>\n",
              "<table border=\"1\" class=\"dataframe\">\n",
              "  <thead>\n",
              "    <tr style=\"text-align: right;\">\n",
              "      <th></th>\n",
              "      <th>price</th>\n",
              "      <th>minimum_nights</th>\n",
              "      <th>number_of_reviews</th>\n",
              "      <th>reviews_per_month</th>\n",
              "      <th>calculated_host_listings_count</th>\n",
              "      <th>availability_365</th>\n",
              "    </tr>\n",
              "  </thead>\n",
              "  <tbody>\n",
              "    <tr>\n",
              "      <th>count</th>\n",
              "      <td>36506.0</td>\n",
              "      <td>36506.0</td>\n",
              "      <td>36506.0</td>\n",
              "      <td>36506.0</td>\n",
              "      <td>36506.0</td>\n",
              "      <td>36506.0</td>\n",
              "    </tr>\n",
              "    <tr>\n",
              "      <th>mean</th>\n",
              "      <td>145.2</td>\n",
              "      <td>15.8</td>\n",
              "      <td>27.7</td>\n",
              "      <td>1.0</td>\n",
              "      <td>12.1</td>\n",
              "      <td>136.7</td>\n",
              "    </tr>\n",
              "    <tr>\n",
              "      <th>std</th>\n",
              "      <td>88.2</td>\n",
              "      <td>13.6</td>\n",
              "      <td>56.1</td>\n",
              "      <td>1.6</td>\n",
              "      <td>37.0</td>\n",
              "      <td>143.0</td>\n",
              "    </tr>\n",
              "    <tr>\n",
              "      <th>min</th>\n",
              "      <td>10.0</td>\n",
              "      <td>1.0</td>\n",
              "      <td>0.0</td>\n",
              "      <td>0.0</td>\n",
              "      <td>1.0</td>\n",
              "      <td>0.0</td>\n",
              "    </tr>\n",
              "    <tr>\n",
              "      <th>25%</th>\n",
              "      <td>77.0</td>\n",
              "      <td>2.0</td>\n",
              "      <td>1.0</td>\n",
              "      <td>0.0</td>\n",
              "      <td>1.0</td>\n",
              "      <td>0.0</td>\n",
              "    </tr>\n",
              "    <tr>\n",
              "      <th>50%</th>\n",
              "      <td>124.0</td>\n",
              "      <td>7.0</td>\n",
              "      <td>6.0</td>\n",
              "      <td>0.3</td>\n",
              "      <td>1.0</td>\n",
              "      <td>77.0</td>\n",
              "    </tr>\n",
              "    <tr>\n",
              "      <th>75%</th>\n",
              "      <td>195.0</td>\n",
              "      <td>30.0</td>\n",
              "      <td>27.0</td>\n",
              "      <td>1.5</td>\n",
              "      <td>3.0</td>\n",
              "      <td>305.0</td>\n",
              "    </tr>\n",
              "    <tr>\n",
              "      <th>max</th>\n",
              "      <td>430.0</td>\n",
              "      <td>30.0</td>\n",
              "      <td>1503.0</td>\n",
              "      <td>51.0</td>\n",
              "      <td>345.0</td>\n",
              "      <td>365.0</td>\n",
              "    </tr>\n",
              "  </tbody>\n",
              "</table>\n",
              "</div>\n",
              "      <button class=\"colab-df-convert\" onclick=\"convertToInteractive('df-ba139101-149c-4c0a-8343-e5a9b42c8142')\"\n",
              "              title=\"Convert this dataframe to an interactive table.\"\n",
              "              style=\"display:none;\">\n",
              "        \n",
              "  <svg xmlns=\"http://www.w3.org/2000/svg\" height=\"24px\"viewBox=\"0 0 24 24\"\n",
              "       width=\"24px\">\n",
              "    <path d=\"M0 0h24v24H0V0z\" fill=\"none\"/>\n",
              "    <path d=\"M18.56 5.44l.94 2.06.94-2.06 2.06-.94-2.06-.94-.94-2.06-.94 2.06-2.06.94zm-11 1L8.5 8.5l.94-2.06 2.06-.94-2.06-.94L8.5 2.5l-.94 2.06-2.06.94zm10 10l.94 2.06.94-2.06 2.06-.94-2.06-.94-.94-2.06-.94 2.06-2.06.94z\"/><path d=\"M17.41 7.96l-1.37-1.37c-.4-.4-.92-.59-1.43-.59-.52 0-1.04.2-1.43.59L10.3 9.45l-7.72 7.72c-.78.78-.78 2.05 0 2.83L4 21.41c.39.39.9.59 1.41.59.51 0 1.02-.2 1.41-.59l7.78-7.78 2.81-2.81c.8-.78.8-2.07 0-2.86zM5.41 20L4 18.59l7.72-7.72 1.47 1.35L5.41 20z\"/>\n",
              "  </svg>\n",
              "      </button>\n",
              "      \n",
              "  <style>\n",
              "    .colab-df-container {\n",
              "      display:flex;\n",
              "      flex-wrap:wrap;\n",
              "      gap: 12px;\n",
              "    }\n",
              "\n",
              "    .colab-df-convert {\n",
              "      background-color: #E8F0FE;\n",
              "      border: none;\n",
              "      border-radius: 50%;\n",
              "      cursor: pointer;\n",
              "      display: none;\n",
              "      fill: #1967D2;\n",
              "      height: 32px;\n",
              "      padding: 0 0 0 0;\n",
              "      width: 32px;\n",
              "    }\n",
              "\n",
              "    .colab-df-convert:hover {\n",
              "      background-color: #E2EBFA;\n",
              "      box-shadow: 0px 1px 2px rgba(60, 64, 67, 0.3), 0px 1px 3px 1px rgba(60, 64, 67, 0.15);\n",
              "      fill: #174EA6;\n",
              "    }\n",
              "\n",
              "    [theme=dark] .colab-df-convert {\n",
              "      background-color: #3B4455;\n",
              "      fill: #D2E3FC;\n",
              "    }\n",
              "\n",
              "    [theme=dark] .colab-df-convert:hover {\n",
              "      background-color: #434B5C;\n",
              "      box-shadow: 0px 1px 3px 1px rgba(0, 0, 0, 0.15);\n",
              "      filter: drop-shadow(0px 1px 2px rgba(0, 0, 0, 0.3));\n",
              "      fill: #FFFFFF;\n",
              "    }\n",
              "  </style>\n",
              "\n",
              "      <script>\n",
              "        const buttonEl =\n",
              "          document.querySelector('#df-ba139101-149c-4c0a-8343-e5a9b42c8142 button.colab-df-convert');\n",
              "        buttonEl.style.display =\n",
              "          google.colab.kernel.accessAllowed ? 'block' : 'none';\n",
              "\n",
              "        async function convertToInteractive(key) {\n",
              "          const element = document.querySelector('#df-ba139101-149c-4c0a-8343-e5a9b42c8142');\n",
              "          const dataTable =\n",
              "            await google.colab.kernel.invokeFunction('convertToInteractive',\n",
              "                                                     [key], {});\n",
              "          if (!dataTable) return;\n",
              "\n",
              "          const docLinkHtml = 'Like what you see? Visit the ' +\n",
              "            '<a target=\"_blank\" href=https://colab.research.google.com/notebooks/data_table.ipynb>data table notebook</a>'\n",
              "            + ' to learn more about interactive tables.';\n",
              "          element.innerHTML = '';\n",
              "          dataTable['output_type'] = 'display_data';\n",
              "          await google.colab.output.renderOutput(dataTable, element);\n",
              "          const docLink = document.createElement('div');\n",
              "          docLink.innerHTML = docLinkHtml;\n",
              "          element.appendChild(docLink);\n",
              "        }\n",
              "      </script>\n",
              "    </div>\n",
              "  </div>\n",
              "  "
            ]
          },
          "metadata": {},
          "execution_count": 20
        }
      ]
    },
    {
      "cell_type": "markdown",
      "source": [
        "##Analisando Dados"
      ],
      "metadata": {
        "id": "lrY7qnQXNEiC"
      }
    },
    {
      "cell_type": "code",
      "source": [
        "# Antes da análise propriamente dita, vamos separar alguns conjuntos de dados\n",
        "\n",
        "#valores únicos para neigbourhood_group\n",
        "df_clean.neighbourhood_group.unique()\n"
      ],
      "metadata": {
        "colab": {
          "base_uri": "https://localhost:8080/"
        },
        "id": "VTV5LnJkNp9s",
        "outputId": "de352f5d-b61b-4c24-fd67-e8ef951c3d86"
      },
      "execution_count": 21,
      "outputs": [
        {
          "output_type": "execute_result",
          "data": {
            "text/plain": [
              "array(['Brooklyn', 'Manhattan', 'Queens', 'Bronx', 'Staten Island'],\n",
              "      dtype=object)"
            ]
          },
          "metadata": {},
          "execution_count": 21
        }
      ]
    },
    {
      "cell_type": "code",
      "source": [
        "#valores únicos para room_type\n",
        "df_clean.room_type.unique()"
      ],
      "metadata": {
        "colab": {
          "base_uri": "https://localhost:8080/"
        },
        "id": "w8e9PwION6s2",
        "outputId": "c7d774d4-a6b7-4e35-92e0-87aeb7b729b9"
      },
      "execution_count": 22,
      "outputs": [
        {
          "output_type": "execute_result",
          "data": {
            "text/plain": [
              "array(['Entire home/apt', 'Private room', 'Hotel room', 'Shared room'],\n",
              "      dtype=object)"
            ]
          },
          "metadata": {},
          "execution_count": 22
        }
      ]
    },
    {
      "cell_type": "markdown",
      "source": [
        "####**Preço por Região**"
      ],
      "metadata": {
        "id": "iY3vtONBm2OM"
      }
    },
    {
      "cell_type": "code",
      "source": [
        "df_clean.groupby(['neighbourhood_group']).price.mean().round(2).sort_values(ascending=False)"
      ],
      "metadata": {
        "colab": {
          "base_uri": "https://localhost:8080/"
        },
        "id": "RfwlN6mu7HkK",
        "outputId": "5f35e759-f8f7-45c7-a173-931e378ff0ba"
      },
      "execution_count": 23,
      "outputs": [
        {
          "output_type": "execute_result",
          "data": {
            "text/plain": [
              "neighbourhood_group\n",
              "Manhattan        173.22\n",
              "Brooklyn         136.36\n",
              "Staten Island    117.27\n",
              "Queens           113.60\n",
              "Bronx            108.33\n",
              "Name: price, dtype: float64"
            ]
          },
          "metadata": {},
          "execution_count": 23
        }
      ]
    },
    {
      "cell_type": "code",
      "source": [
        "viz=sns.violinplot(data=df_clean, x='neighbourhood_group', y='price')\n",
        "viz.set_title('Densidade e distribuição dos preços para cada neighberhood_group')"
      ],
      "metadata": {
        "colab": {
          "base_uri": "https://localhost:8080/",
          "height": 313
        },
        "id": "sNGulcfR0HcM",
        "outputId": "d1932382-1ef2-439d-f76a-82ed605924ac"
      },
      "execution_count": 24,
      "outputs": [
        {
          "output_type": "execute_result",
          "data": {
            "text/plain": [
              "Text(0.5, 1.0, 'Densidade e distribuição dos preços para cada neighberhood_group')"
            ]
          },
          "metadata": {},
          "execution_count": 24
        },
        {
          "output_type": "display_data",
          "data": {
            "text/plain": [
              "<Figure size 432x288 with 1 Axes>"
            ],
            "image/png": "[encoded data removed]"
          },
          "metadata": {
            "needs_background": "light"
          }
        }
      ]
    },
    {
      "cell_type": "markdown",
      "source": [
        "Com essa vizualização podemos concluir que as regiões \"Queens\",\"Bronx\" e \"Staten Islande\" tem uma distribuição muito similar entre elas, mantendo sua média próximo à 100,00 dolares/noite e tendo os valores mais baixos na casa de 50,00/noite e ainda assim Staten Island mostra ser a região com quastos mais baratos entre eles, já \"Brooklyn\" apresenta ter a maior disperção entre os dados variando de de 60,00 à 150,00 dolares/noite aproximadamente e por fim temos \"Manhattan\" como a região mais cara onde sua média se encontra próxima ao valor Max de \"Brooklyn\"  "
      ],
      "metadata": {
        "id": "f5ssjbfS3znT"
      }
    },
    {
      "cell_type": "code",
      "source": [
        "df_clean.groupby(['neighbourhood']).price.mean().round(2).sort_values(ascending=False)[:10]"
      ],
      "metadata": {
        "colab": {
          "base_uri": "https://localhost:8080/"
        },
        "id": "imrxpI8A9FwS",
        "outputId": "e36ee2e6-fd71-40a1-bb1c-546c7b9d9674"
      },
      "execution_count": 25,
      "outputs": [
        {
          "output_type": "execute_result",
          "data": {
            "text/plain": [
              "neighbourhood\n",
              "Willowbrook           329.00\n",
              "Neponsit              293.50\n",
              "Financial District    253.36\n",
              "Spuyten Duyvil        251.75\n",
              "NoHo                  224.71\n",
              "DUMBO                 224.30\n",
              "Belle Harbor          223.86\n",
              "Midtown               223.18\n",
              "Todt Hill             220.33\n",
              "Bergen Beach          217.47\n",
              "Name: price, dtype: float64"
            ]
          },
          "metadata": {},
          "execution_count": 25
        }
      ]
    },
    {
      "cell_type": "code",
      "source": [
        "print(df_clean[df_clean.neighbourhood == \"Willowbrook\"].shape)\n",
        "\n",
        "df_clean[df_clean.neighbourhood == \"Willowbrook\"]"
      ],
      "metadata": {
        "colab": {
          "base_uri": "https://localhost:8080/",
          "height": 231
        },
        "id": "f70NnnJi9TFC",
        "outputId": "ae17939f-c7de-44b3-976b-689fd8a82d48"
      },
      "execution_count": 26,
      "outputs": [
        {
          "output_type": "stream",
          "name": "stdout",
          "text": [
            "(1, 16)\n"
          ]
        },
        {
          "output_type": "execute_result",
          "data": {
            "text/plain": [
              "             id                               name    host_id  \\\n",
              "14439  27088022  Bright and Spacious Gorgeous Home  103450258   \n",
              "\n",
              "      neighbourhood_group neighbourhood  latitude  longitude        room_type  \\\n",
              "14439       Staten Island   Willowbrook  40.59919  -74.13389  Entire home/apt   \n",
              "\n",
              "       price  minimum_nights  number_of_reviews last_review  \\\n",
              "14439    329               4                 43  2022-11-09   \n",
              "\n",
              "       reviews_per_month  calculated_host_listings_count  availability_365  \\\n",
              "14439               0.81                               3               239   \n",
              "\n",
              "       number_of_reviews_ltm  \n",
              "14439                     16  "
            ],
            "text/html": [
              "\n",
              "  <div id=\"df-c9c4a18d-3f8f-47e1-8357-854ff1c8d8f9\">\n",
              "    <div class=\"colab-df-container\">\n",
              "      <div>\n",
              "<style scoped>\n",
              "    .dataframe tbody tr th:only-of-type {\n",
              "        vertical-align: middle;\n",
              "    }\n",
              "\n",
              "    .dataframe tbody tr th {\n",
              "        vertical-align: top;\n",
              "    }\n",
              "\n",
              "    .dataframe thead th {\n",
              "        text-align: right;\n",
              "    }\n",
              "</style>\n",
              "<table border=\"1\" class=\"dataframe\">\n",
              "  <thead>\n",
              "    <tr style=\"text-align: right;\">\n",
              "      <th></th>\n",
              "      <th>id</th>\n",
              "      <th>name</th>\n",
              "      <th>host_id</th>\n",
              "      <th>neighbourhood_group</th>\n",
              "      <th>neighbourhood</th>\n",
              "      <th>latitude</th>\n",
              "      <th>longitude</th>\n",
              "      <th>room_type</th>\n",
              "      <th>price</th>\n",
              "      <th>minimum_nights</th>\n",
              "      <th>number_of_reviews</th>\n",
              "      <th>last_review</th>\n",
              "      <th>reviews_per_month</th>\n",
              "      <th>calculated_host_listings_count</th>\n",
              "      <th>availability_365</th>\n",
              "      <th>number_of_reviews_ltm</th>\n",
              "    </tr>\n",
              "  </thead>\n",
              "  <tbody>\n",
              "    <tr>\n",
              "      <th>14439</th>\n",
              "      <td>27088022</td>\n",
              "      <td>Bright and Spacious Gorgeous Home</td>\n",
              "      <td>103450258</td>\n",
              "      <td>Staten Island</td>\n",
              "      <td>Willowbrook</td>\n",
              "      <td>40.59919</td>\n",
              "      <td>-74.13389</td>\n",
              "      <td>Entire home/apt</td>\n",
              "      <td>329</td>\n",
              "      <td>4</td>\n",
              "      <td>43</td>\n",
              "      <td>2022-11-09</td>\n",
              "      <td>0.81</td>\n",
              "      <td>3</td>\n",
              "      <td>239</td>\n",
              "      <td>16</td>\n",
              "    </tr>\n",
              "  </tbody>\n",
              "</table>\n",
              "</div>\n",
              "      <button class=\"colab-df-convert\" onclick=\"convertToInteractive('df-c9c4a18d-3f8f-47e1-8357-854ff1c8d8f9')\"\n",
              "              title=\"Convert this dataframe to an interactive table.\"\n",
              "              style=\"display:none;\">\n",
              "        \n",
              "  <svg xmlns=\"http://www.w3.org/2000/svg\" height=\"24px\"viewBox=\"0 0 24 24\"\n",
              "       width=\"24px\">\n",
              "    <path d=\"M0 0h24v24H0V0z\" fill=\"none\"/>\n",
              "    <path d=\"M18.56 5.44l.94 2.06.94-2.06 2.06-.94-2.06-.94-.94-2.06-.94 2.06-2.06.94zm-11 1L8.5 8.5l.94-2.06 2.06-.94-2.06-.94L8.5 2.5l-.94 2.06-2.06.94zm10 10l.94 2.06.94-2.06 2.06-.94-2.06-.94-.94-2.06-.94 2.06-2.06.94z\"/><path d=\"M17.41 7.96l-1.37-1.37c-.4-.4-.92-.59-1.43-.59-.52 0-1.04.2-1.43.59L10.3 9.45l-7.72 7.72c-.78.78-.78 2.05 0 2.83L4 21.41c.39.39.9.59 1.41.59.51 0 1.02-.2 1.41-.59l7.78-7.78 2.81-2.81c.8-.78.8-2.07 0-2.86zM5.41 20L4 18.59l7.72-7.72 1.47 1.35L5.41 20z\"/>\n",
              "  </svg>\n",
              "      </button>\n",
              "      \n",
              "  <style>\n",
              "    .colab-df-container {\n",
              "      display:flex;\n",
              "      flex-wrap:wrap;\n",
              "      gap: 12px;\n",
              "    }\n",
              "\n",
              "    .colab-df-convert {\n",
              "      background-color: #E8F0FE;\n",
              "      border: none;\n",
              "      border-radius: 50%;\n",
              "      cursor: pointer;\n",
              "      display: none;\n",
              "      fill: #1967D2;\n",
              "      height: 32px;\n",
              "      padding: 0 0 0 0;\n",
              "      width: 32px;\n",
              "    }\n",
              "\n",
              "    .colab-df-convert:hover {\n",
              "      background-color: #E2EBFA;\n",
              "      box-shadow: 0px 1px 2px rgba(60, 64, 67, 0.3), 0px 1px 3px 1px rgba(60, 64, 67, 0.15);\n",
              "      fill: #174EA6;\n",
              "    }\n",
              "\n",
              "    [theme=dark] .colab-df-convert {\n",
              "      background-color: #3B4455;\n",
              "      fill: #D2E3FC;\n",
              "    }\n",
              "\n",
              "    [theme=dark] .colab-df-convert:hover {\n",
              "      background-color: #434B5C;\n",
              "      box-shadow: 0px 1px 3px 1px rgba(0, 0, 0, 0.15);\n",
              "      filter: drop-shadow(0px 1px 2px rgba(0, 0, 0, 0.3));\n",
              "      fill: #FFFFFF;\n",
              "    }\n",
              "  </style>\n",
              "\n",
              "      <script>\n",
              "        const buttonEl =\n",
              "          document.querySelector('#df-c9c4a18d-3f8f-47e1-8357-854ff1c8d8f9 button.colab-df-convert');\n",
              "        buttonEl.style.display =\n",
              "          google.colab.kernel.accessAllowed ? 'block' : 'none';\n",
              "\n",
              "        async function convertToInteractive(key) {\n",
              "          const element = document.querySelector('#df-c9c4a18d-3f8f-47e1-8357-854ff1c8d8f9');\n",
              "          const dataTable =\n",
              "            await google.colab.kernel.invokeFunction('convertToInteractive',\n",
              "                                                     [key], {});\n",
              "          if (!dataTable) return;\n",
              "\n",
              "          const docLinkHtml = 'Like what you see? Visit the ' +\n",
              "            '<a target=\"_blank\" href=https://colab.research.google.com/notebooks/data_table.ipynb>data table notebook</a>'\n",
              "            + ' to learn more about interactive tables.';\n",
              "          element.innerHTML = '';\n",
              "          dataTable['output_type'] = 'display_data';\n",
              "          await google.colab.output.renderOutput(dataTable, element);\n",
              "          const docLink = document.createElement('div');\n",
              "          docLink.innerHTML = docLinkHtml;\n",
              "          element.appendChild(docLink);\n",
              "        }\n",
              "      </script>\n",
              "    </div>\n",
              "  </div>\n",
              "  "
            ]
          },
          "metadata": {},
          "execution_count": 26
        }
      ]
    },
    {
      "cell_type": "code",
      "source": [
        "print(df_clean[df_clean.neighbourhood == \"Neponsit\"].shape)\n",
        "\n",
        "df_clean[df_clean.neighbourhood == \"Neponsit\"]"
      ],
      "metadata": {
        "colab": {
          "base_uri": "https://localhost:8080/",
          "height": 297
        },
        "id": "UOR6Dneflkhc",
        "outputId": "36b9fa0a-3e55-49cc-ba26-65c0fad5395b"
      },
      "execution_count": 27,
      "outputs": [
        {
          "output_type": "stream",
          "name": "stdout",
          "text": [
            "(2, 16)\n"
          ]
        },
        {
          "output_type": "execute_result",
          "data": {
            "text/plain": [
              "             id                               name    host_id  \\\n",
              "10910  19274199  Luxurious Country Beach Surf Loft   62608664   \n",
              "13693  24910361      \"The Little House by the Sea\"  188328775   \n",
              "\n",
              "      neighbourhood_group neighbourhood  latitude  longitude        room_type  \\\n",
              "10910              Queens      Neponsit  40.57068  -73.86126  Entire home/apt   \n",
              "13693              Queens      Neponsit  40.56948  -73.85941  Entire home/apt   \n",
              "\n",
              "       price  minimum_nights  number_of_reviews last_review  \\\n",
              "10910    292               2                 46  2022-08-21   \n",
              "13693    295               2                 27  2022-11-20   \n",
              "\n",
              "       reviews_per_month  calculated_host_listings_count  availability_365  \\\n",
              "10910               0.69                               1               364   \n",
              "13693               0.50                               1                88   \n",
              "\n",
              "       number_of_reviews_ltm  \n",
              "10910                      4  \n",
              "13693                      4  "
            ],
            "text/html": [
              "\n",
              "  <div id=\"df-1d8cae6b-f914-4bc4-8fe4-e972c16a9fc6\">\n",
              "    <div class=\"colab-df-container\">\n",
              "      <div>\n",
              "<style scoped>\n",
              "    .dataframe tbody tr th:only-of-type {\n",
              "        vertical-align: middle;\n",
              "    }\n",
              "\n",
              "    .dataframe tbody tr th {\n",
              "        vertical-align: top;\n",
              "    }\n",
              "\n",
              "    .dataframe thead th {\n",
              "        text-align: right;\n",
              "    }\n",
              "</style>\n",
              "<table border=\"1\" class=\"dataframe\">\n",
              "  <thead>\n",
              "    <tr style=\"text-align: right;\">\n",
              "      <th></th>\n",
              "      <th>id</th>\n",
              "      <th>name</th>\n",
              "      <th>host_id</th>\n",
              "      <th>neighbourhood_group</th>\n",
              "      <th>neighbourhood</th>\n",
              "      <th>latitude</th>\n",
              "      <th>longitude</th>\n",
              "      <th>room_type</th>\n",
              "      <th>price</th>\n",
              "      <th>minimum_nights</th>\n",
              "      <th>number_of_reviews</th>\n",
              "      <th>last_review</th>\n",
              "      <th>reviews_per_month</th>\n",
              "      <th>calculated_host_listings_count</th>\n",
              "      <th>availability_365</th>\n",
              "      <th>number_of_reviews_ltm</th>\n",
              "    </tr>\n",
              "  </thead>\n",
              "  <tbody>\n",
              "    <tr>\n",
              "      <th>10910</th>\n",
              "      <td>19274199</td>\n",
              "      <td>Luxurious Country Beach Surf Loft</td>\n",
              "      <td>62608664</td>\n",
              "      <td>Queens</td>\n",
              "      <td>Neponsit</td>\n",
              "      <td>40.57068</td>\n",
              "      <td>-73.86126</td>\n",
              "      <td>Entire home/apt</td>\n",
              "      <td>292</td>\n",
              "      <td>2</td>\n",
              "      <td>46</td>\n",
              "      <td>2022-08-21</td>\n",
              "      <td>0.69</td>\n",
              "      <td>1</td>\n",
              "      <td>364</td>\n",
              "      <td>4</td>\n",
              "    </tr>\n",
              "    <tr>\n",
              "      <th>13693</th>\n",
              "      <td>24910361</td>\n",
              "      <td>\"The Little House by the Sea\"</td>\n",
              "      <td>188328775</td>\n",
              "      <td>Queens</td>\n",
              "      <td>Neponsit</td>\n",
              "      <td>40.56948</td>\n",
              "      <td>-73.85941</td>\n",
              "      <td>Entire home/apt</td>\n",
              "      <td>295</td>\n",
              "      <td>2</td>\n",
              "      <td>27</td>\n",
              "      <td>2022-11-20</td>\n",
              "      <td>0.50</td>\n",
              "      <td>1</td>\n",
              "      <td>88</td>\n",
              "      <td>4</td>\n",
              "    </tr>\n",
              "  </tbody>\n",
              "</table>\n",
              "</div>\n",
              "      <button class=\"colab-df-convert\" onclick=\"convertToInteractive('df-1d8cae6b-f914-4bc4-8fe4-e972c16a9fc6')\"\n",
              "              title=\"Convert this dataframe to an interactive table.\"\n",
              "              style=\"display:none;\">\n",
              "        \n",
              "  <svg xmlns=\"http://www.w3.org/2000/svg\" height=\"24px\"viewBox=\"0 0 24 24\"\n",
              "       width=\"24px\">\n",
              "    <path d=\"M0 0h24v24H0V0z\" fill=\"none\"/>\n",
              "    <path d=\"M18.56 5.44l.94 2.06.94-2.06 2.06-.94-2.06-.94-.94-2.06-.94 2.06-2.06.94zm-11 1L8.5 8.5l.94-2.06 2.06-.94-2.06-.94L8.5 2.5l-.94 2.06-2.06.94zm10 10l.94 2.06.94-2.06 2.06-.94-2.06-.94-.94-2.06-.94 2.06-2.06.94z\"/><path d=\"M17.41 7.96l-1.37-1.37c-.4-.4-.92-.59-1.43-.59-.52 0-1.04.2-1.43.59L10.3 9.45l-7.72 7.72c-.78.78-.78 2.05 0 2.83L4 21.41c.39.39.9.59 1.41.59.51 0 1.02-.2 1.41-.59l7.78-7.78 2.81-2.81c.8-.78.8-2.07 0-2.86zM5.41 20L4 18.59l7.72-7.72 1.47 1.35L5.41 20z\"/>\n",
              "  </svg>\n",
              "      </button>\n",
              "      \n",
              "  <style>\n",
              "    .colab-df-container {\n",
              "      display:flex;\n",
              "      flex-wrap:wrap;\n",
              "      gap: 12px;\n",
              "    }\n",
              "\n",
              "    .colab-df-convert {\n",
              "      background-color: #E8F0FE;\n",
              "      border: none;\n",
              "      border-radius: 50%;\n",
              "      cursor: pointer;\n",
              "      display: none;\n",
              "      fill: #1967D2;\n",
              "      height: 32px;\n",
              "      padding: 0 0 0 0;\n",
              "      width: 32px;\n",
              "    }\n",
              "\n",
              "    .colab-df-convert:hover {\n",
              "      background-color: #E2EBFA;\n",
              "      box-shadow: 0px 1px 2px rgba(60, 64, 67, 0.3), 0px 1px 3px 1px rgba(60, 64, 67, 0.15);\n",
              "      fill: #174EA6;\n",
              "    }\n",
              "\n",
              "    [theme=dark] .colab-df-convert {\n",
              "      background-color: #3B4455;\n",
              "      fill: #D2E3FC;\n",
              "    }\n",
              "\n",
              "    [theme=dark] .colab-df-convert:hover {\n",
              "      background-color: #434B5C;\n",
              "      box-shadow: 0px 1px 3px 1px rgba(0, 0, 0, 0.15);\n",
              "      filter: drop-shadow(0px 1px 2px rgba(0, 0, 0, 0.3));\n",
              "      fill: #FFFFFF;\n",
              "    }\n",
              "  </style>\n",
              "\n",
              "      <script>\n",
              "        const buttonEl =\n",
              "          document.querySelector('#df-1d8cae6b-f914-4bc4-8fe4-e972c16a9fc6 button.colab-df-convert');\n",
              "        buttonEl.style.display =\n",
              "          google.colab.kernel.accessAllowed ? 'block' : 'none';\n",
              "\n",
              "        async function convertToInteractive(key) {\n",
              "          const element = document.querySelector('#df-1d8cae6b-f914-4bc4-8fe4-e972c16a9fc6');\n",
              "          const dataTable =\n",
              "            await google.colab.kernel.invokeFunction('convertToInteractive',\n",
              "                                                     [key], {});\n",
              "          if (!dataTable) return;\n",
              "\n",
              "          const docLinkHtml = 'Like what you see? Visit the ' +\n",
              "            '<a target=\"_blank\" href=https://colab.research.google.com/notebooks/data_table.ipynb>data table notebook</a>'\n",
              "            + ' to learn more about interactive tables.';\n",
              "          element.innerHTML = '';\n",
              "          dataTable['output_type'] = 'display_data';\n",
              "          await google.colab.output.renderOutput(dataTable, element);\n",
              "          const docLink = document.createElement('div');\n",
              "          docLink.innerHTML = docLinkHtml;\n",
              "          element.appendChild(docLink);\n",
              "        }\n",
              "      </script>\n",
              "    </div>\n",
              "  </div>\n",
              "  "
            ]
          },
          "metadata": {},
          "execution_count": 27
        }
      ]
    },
    {
      "cell_type": "markdown",
      "source": [
        "Após navegarmos um pouco mais fundo encontramos que os bairros \"Willowbrook\" e \"Neponsit\" (Staten Island e Queens) respectivamente, possuem as maiores médias de preço, porém como ilustrado acima isso ocorre por conta da baixa quantidade de anúncios em ambos bairos. Já os demais bairros listados pertencem às regiões mais caras (Manhattan e Broklyn) como já tinhamos analisado anteriormente."
      ],
      "metadata": {
        "id": "srrdzv7_lmZI"
      }
    },
    {
      "cell_type": "markdown",
      "source": [
        "####**Correlações**\n",
        "\n",
        "A matriz de correlação mostra os valores de correlação de Pearson, que medem o grau de relação linear entre cada par de variáveis. Os valores de correlação podem cair entre -1 e +1. Se as duas variáveis tendem a aumentar e diminuir juntas, o valor de correlação é positivo. Se uma variável aumenta enquanto a outra variável diminui, o valor de correlação é negativo."
      ],
      "metadata": {
        "id": "0uWeo1s5nDQc"
      }
    },
    {
      "cell_type": "code",
      "source": [
        "# Análise de correlçao\n",
        "corr = df_clean[['price', 'minimum_nights', 'number_of_reviews', 'reviews_per_month',\n",
        "    'calculated_host_listings_count', 'availability_365','latitude','longitude']].corr()\n",
        "\n",
        "display(corr)"
      ],
      "metadata": {
        "colab": {
          "base_uri": "https://localhost:8080/",
          "height": 364
        },
        "id": "PVYc7ZTh5i7r",
        "outputId": "c49fbd8f-4b06-476f-8dbc-166042249290"
      },
      "execution_count": 28,
      "outputs": [
        {
          "output_type": "display_data",
          "data": {
            "text/plain": [
              "                                   price  minimum_nights  number_of_reviews  \\\n",
              "price                           1.000000       -0.193228           0.010787   \n",
              "minimum_nights                 -0.193228        1.000000          -0.256621   \n",
              "number_of_reviews               0.010787       -0.256621           1.000000   \n",
              "reviews_per_month               0.080681       -0.497426           0.526992   \n",
              "calculated_host_listings_count -0.007567        0.145446          -0.088062   \n",
              "availability_365                0.103331       -0.244559           0.102226   \n",
              "latitude                        0.006323        0.080376          -0.044556   \n",
              "longitude                      -0.234335       -0.190186           0.039676   \n",
              "\n",
              "                                reviews_per_month  \\\n",
              "price                                    0.080681   \n",
              "minimum_nights                          -0.497426   \n",
              "number_of_reviews                        0.526992   \n",
              "reviews_per_month                        1.000000   \n",
              "calculated_host_listings_count          -0.070157   \n",
              "availability_365                         0.243345   \n",
              "latitude                                -0.060433   \n",
              "longitude                                0.133406   \n",
              "\n",
              "                                calculated_host_listings_count  \\\n",
              "price                                                -0.007567   \n",
              "minimum_nights                                        0.145446   \n",
              "number_of_reviews                                    -0.088062   \n",
              "reviews_per_month                                    -0.070157   \n",
              "calculated_host_listings_count                        1.000000   \n",
              "availability_365                                      0.130376   \n",
              "latitude                                              0.083844   \n",
              "longitude                                            -0.041752   \n",
              "\n",
              "                                availability_365  latitude  longitude  \n",
              "price                                   0.103331  0.006323  -0.234335  \n",
              "minimum_nights                         -0.244559  0.080376  -0.190186  \n",
              "number_of_reviews                       0.102226 -0.044556   0.039676  \n",
              "reviews_per_month                       0.243345 -0.060433   0.133406  \n",
              "calculated_host_listings_count          0.130376  0.083844  -0.041752  \n",
              "availability_365                        1.000000 -0.017994   0.164654  \n",
              "latitude                               -0.017994  1.000000   0.062666  \n",
              "longitude                               0.164654  0.062666   1.000000  "
            ],
            "text/html": [
              "\n",
              "  <div id=\"df-c1636782-86b7-411a-80eb-40f04b3baa0f\">\n",
              "    <div class=\"colab-df-container\">\n",
              "      <div>\n",
              "<style scoped>\n",
              "    .dataframe tbody tr th:only-of-type {\n",
              "        vertical-align: middle;\n",
              "    }\n",
              "\n",
              "    .dataframe tbody tr th {\n",
              "        vertical-align: top;\n",
              "    }\n",
              "\n",
              "    .dataframe thead th {\n",
              "        text-align: right;\n",
              "    }\n",
              "</style>\n",
              "<table border=\"1\" class=\"dataframe\">\n",
              "  <thead>\n",
              "    <tr style=\"text-align: right;\">\n",
              "      <th></th>\n",
              "      <th>price</th>\n",
              "      <th>minimum_nights</th>\n",
              "      <th>number_of_reviews</th>\n",
              "      <th>reviews_per_month</th>\n",
              "      <th>calculated_host_listings_count</th>\n",
              "      <th>availability_365</th>\n",
              "      <th>latitude</th>\n",
              "      <th>longitude</th>\n",
              "    </tr>\n",
              "  </thead>\n",
              "  <tbody>\n",
              "    <tr>\n",
              "      <th>price</th>\n",
              "      <td>1.000000</td>\n",
              "      <td>-0.193228</td>\n",
              "      <td>0.010787</td>\n",
              "      <td>0.080681</td>\n",
              "      <td>-0.007567</td>\n",
              "      <td>0.103331</td>\n",
              "      <td>0.006323</td>\n",
              "      <td>-0.234335</td>\n",
              "    </tr>\n",
              "    <tr>\n",
              "      <th>minimum_nights</th>\n",
              "      <td>-0.193228</td>\n",
              "      <td>1.000000</td>\n",
              "      <td>-0.256621</td>\n",
              "      <td>-0.497426</td>\n",
              "      <td>0.145446</td>\n",
              "      <td>-0.244559</td>\n",
              "      <td>0.080376</td>\n",
              "      <td>-0.190186</td>\n",
              "    </tr>\n",
              "    <tr>\n",
              "      <th>number_of_reviews</th>\n",
              "      <td>0.010787</td>\n",
              "      <td>-0.256621</td>\n",
              "      <td>1.000000</td>\n",
              "      <td>0.526992</td>\n",
              "      <td>-0.088062</td>\n",
              "      <td>0.102226</td>\n",
              "      <td>-0.044556</td>\n",
              "      <td>0.039676</td>\n",
              "    </tr>\n",
              "    <tr>\n",
              "      <th>reviews_per_month</th>\n",
              "      <td>0.080681</td>\n",
              "      <td>-0.497426</td>\n",
              "      <td>0.526992</td>\n",
              "      <td>1.000000</td>\n",
              "      <td>-0.070157</td>\n",
              "      <td>0.243345</td>\n",
              "      <td>-0.060433</td>\n",
              "      <td>0.133406</td>\n",
              "    </tr>\n",
              "    <tr>\n",
              "      <th>calculated_host_listings_count</th>\n",
              "      <td>-0.007567</td>\n",
              "      <td>0.145446</td>\n",
              "      <td>-0.088062</td>\n",
              "      <td>-0.070157</td>\n",
              "      <td>1.000000</td>\n",
              "      <td>0.130376</td>\n",
              "      <td>0.083844</td>\n",
              "      <td>-0.041752</td>\n",
              "    </tr>\n",
              "    <tr>\n",
              "      <th>availability_365</th>\n",
              "      <td>0.103331</td>\n",
              "      <td>-0.244559</td>\n",
              "      <td>0.102226</td>\n",
              "      <td>0.243345</td>\n",
              "      <td>0.130376</td>\n",
              "      <td>1.000000</td>\n",
              "      <td>-0.017994</td>\n",
              "      <td>0.164654</td>\n",
              "    </tr>\n",
              "    <tr>\n",
              "      <th>latitude</th>\n",
              "      <td>0.006323</td>\n",
              "      <td>0.080376</td>\n",
              "      <td>-0.044556</td>\n",
              "      <td>-0.060433</td>\n",
              "      <td>0.083844</td>\n",
              "      <td>-0.017994</td>\n",
              "      <td>1.000000</td>\n",
              "      <td>0.062666</td>\n",
              "    </tr>\n",
              "    <tr>\n",
              "      <th>longitude</th>\n",
              "      <td>-0.234335</td>\n",
              "      <td>-0.190186</td>\n",
              "      <td>0.039676</td>\n",
              "      <td>0.133406</td>\n",
              "      <td>-0.041752</td>\n",
              "      <td>0.164654</td>\n",
              "      <td>0.062666</td>\n",
              "      <td>1.000000</td>\n",
              "    </tr>\n",
              "  </tbody>\n",
              "</table>\n",
              "</div>\n",
              "      <button class=\"colab-df-convert\" onclick=\"convertToInteractive('df-c1636782-86b7-411a-80eb-40f04b3baa0f')\"\n",
              "              title=\"Convert this dataframe to an interactive table.\"\n",
              "              style=\"display:none;\">\n",
              "        \n",
              "  <svg xmlns=\"http://www.w3.org/2000/svg\" height=\"24px\"viewBox=\"0 0 24 24\"\n",
              "       width=\"24px\">\n",
              "    <path d=\"M0 0h24v24H0V0z\" fill=\"none\"/>\n",
              "    <path d=\"M18.56 5.44l.94 2.06.94-2.06 2.06-.94-2.06-.94-.94-2.06-.94 2.06-2.06.94zm-11 1L8.5 8.5l.94-2.06 2.06-.94-2.06-.94L8.5 2.5l-.94 2.06-2.06.94zm10 10l.94 2.06.94-2.06 2.06-.94-2.06-.94-.94-2.06-.94 2.06-2.06.94z\"/><path d=\"M17.41 7.96l-1.37-1.37c-.4-.4-.92-.59-1.43-.59-.52 0-1.04.2-1.43.59L10.3 9.45l-7.72 7.72c-.78.78-.78 2.05 0 2.83L4 21.41c.39.39.9.59 1.41.59.51 0 1.02-.2 1.41-.59l7.78-7.78 2.81-2.81c.8-.78.8-2.07 0-2.86zM5.41 20L4 18.59l7.72-7.72 1.47 1.35L5.41 20z\"/>\n",
              "  </svg>\n",
              "      </button>\n",
              "      \n",
              "  <style>\n",
              "    .colab-df-container {\n",
              "      display:flex;\n",
              "      flex-wrap:wrap;\n",
              "      gap: 12px;\n",
              "    }\n",
              "\n",
              "    .colab-df-convert {\n",
              "      background-color: #E8F0FE;\n",
              "      border: none;\n",
              "      border-radius: 50%;\n",
              "      cursor: pointer;\n",
              "      display: none;\n",
              "      fill: #1967D2;\n",
              "      height: 32px;\n",
              "      padding: 0 0 0 0;\n",
              "      width: 32px;\n",
              "    }\n",
              "\n",
              "    .colab-df-convert:hover {\n",
              "      background-color: #E2EBFA;\n",
              "      box-shadow: 0px 1px 2px rgba(60, 64, 67, 0.3), 0px 1px 3px 1px rgba(60, 64, 67, 0.15);\n",
              "      fill: #174EA6;\n",
              "    }\n",
              "\n",
              "    [theme=dark] .colab-df-convert {\n",
              "      background-color: #3B4455;\n",
              "      fill: #D2E3FC;\n",
              "    }\n",
              "\n",
              "    [theme=dark] .colab-df-convert:hover {\n",
              "      background-color: #434B5C;\n",
              "      box-shadow: 0px 1px 3px 1px rgba(0, 0, 0, 0.15);\n",
              "      filter: drop-shadow(0px 1px 2px rgba(0, 0, 0, 0.3));\n",
              "      fill: #FFFFFF;\n",
              "    }\n",
              "  </style>\n",
              "\n",
              "      <script>\n",
              "        const buttonEl =\n",
              "          document.querySelector('#df-c1636782-86b7-411a-80eb-40f04b3baa0f button.colab-df-convert');\n",
              "        buttonEl.style.display =\n",
              "          google.colab.kernel.accessAllowed ? 'block' : 'none';\n",
              "\n",
              "        async function convertToInteractive(key) {\n",
              "          const element = document.querySelector('#df-c1636782-86b7-411a-80eb-40f04b3baa0f');\n",
              "          const dataTable =\n",
              "            await google.colab.kernel.invokeFunction('convertToInteractive',\n",
              "                                                     [key], {});\n",
              "          if (!dataTable) return;\n",
              "\n",
              "          const docLinkHtml = 'Like what you see? Visit the ' +\n",
              "            '<a target=\"_blank\" href=https://colab.research.google.com/notebooks/data_table.ipynb>data table notebook</a>'\n",
              "            + ' to learn more about interactive tables.';\n",
              "          element.innerHTML = '';\n",
              "          dataTable['output_type'] = 'display_data';\n",
              "          await google.colab.output.renderOutput(dataTable, element);\n",
              "          const docLink = document.createElement('div');\n",
              "          docLink.innerHTML = docLinkHtml;\n",
              "          element.appendChild(docLink);\n",
              "        }\n",
              "      </script>\n",
              "    </div>\n",
              "  </div>\n",
              "  "
            ]
          },
          "metadata": {}
        }
      ]
    },
    {
      "cell_type": "code",
      "source": [
        "sns.heatmap(corr, cmap='RdBu', fmt='.2f', square=True, linecolor='white', annot=True);"
      ],
      "metadata": {
        "colab": {
          "base_uri": "https://localhost:8080/",
          "height": 411
        },
        "id": "I1oVTTkq5zh-",
        "outputId": "50c2b9bb-5385-4ca4-9dbc-a3b12a40160b"
      },
      "execution_count": 29,
      "outputs": [
        {
          "output_type": "display_data",
          "data": {
            "text/plain": [
              "<Figure size 432x288 with 2 Axes>"
            ],
            "image/png": "[encoded data removed]"
          },
          "metadata": {
            "needs_background": "light"
          }
        }
      ]
    },
    {
      "cell_type": "markdown",
      "source": [
        "À princípio não é possível notar nenhuma correlação forte entre as variáveis apenas uma mínima tendência de que quartos com `minimum_nights`de poucos dias tem menos `review_per_month`, mas isso não nos traz nenhum *insight* relevante.\n",
        "\n",
        "Vamos agora avaliar os tipos de imóveis (`room_type`) que mais possuem anúncios e os imóveis que possuem mais avaliações para ver se encontramos alguma relação para nossa análise."
      ],
      "metadata": {
        "id": "twisIM2CpsBE"
      }
    },
    {
      "cell_type": "code",
      "source": [
        "# Tipos de Imóveis em percentual\n",
        "df_clean.room_type.value_counts() / df_clean.shape[0]*100"
      ],
      "metadata": {
        "colab": {
          "base_uri": "https://localhost:8080/"
        },
        "id": "VJfFraKhsCbt",
        "outputId": "19022d30-9979-41a9-da6a-ef61b648cf72"
      },
      "execution_count": 30,
      "outputs": [
        {
          "output_type": "execute_result",
          "data": {
            "text/plain": [
              "Entire home/apt    55.319673\n",
              "Private room       43.116200\n",
              "Shared room         1.323070\n",
              "Hotel room          0.241056\n",
              "Name: room_type, dtype: float64"
            ]
          },
          "metadata": {},
          "execution_count": 30
        }
      ]
    },
    {
      "cell_type": "code",
      "source": [
        "# Relação de Custos\n",
        "df_clean.groupby(['room_type']).price.mean().round(2).sort_values(ascending=False)[:10]"
      ],
      "metadata": {
        "colab": {
          "base_uri": "https://localhost:8080/"
        },
        "id": "BTuX7so-tJNk",
        "outputId": "65c58ec7-88db-4755-c6fe-78963244dee6"
      },
      "execution_count": 31,
      "outputs": [
        {
          "output_type": "execute_result",
          "data": {
            "text/plain": [
              "room_type\n",
              "Hotel room         254.82\n",
              "Entire home/apt    186.56\n",
              "Private room        93.47\n",
              "Shared room         83.33\n",
              "Name: price, dtype: float64"
            ]
          },
          "metadata": {},
          "execution_count": 31
        }
      ]
    },
    {
      "cell_type": "code",
      "source": [
        "# Lista dos 10 imóveis mais avaliados\n",
        "top_reviewed_listings=df_clean.nlargest(10,'number_of_reviews')\n",
        "top_reviewed_listings"
      ],
      "metadata": {
        "colab": {
          "base_uri": "https://localhost:8080/",
          "height": 912
        },
        "id": "2zLo0CGP4b-Q",
        "outputId": "c5203e07-a853-421e-a777-ec0df953f17b"
      },
      "execution_count": 35,
      "outputs": [
        {
          "output_type": "execute_result",
          "data": {
            "text/plain": [
              "             id                                               name    host_id  \\\n",
              "18534  37122502  Amazing Micro Unit W/ communal rooftop and kit...  266755066   \n",
              "18527  37122162          Beautiful Standard Full Room at The Ridge  266755066   \n",
              "7604   12502633       Entire New Apartment in Park Slope / Gowanus     379619   \n",
              "25869  49946715                     S+ Location Midtown Studio Apt  341752262   \n",
              "9068   15262831                 THE PRIVACY DEN ~ 5 MINUTES TO JFK   97086824   \n",
              "17361  34072045                                     King Room City  259169672   \n",
              "1301    1217318                    Williamsburg Penthouse Hideaway    6642777   \n",
              "2612    3798941                   Williamsburg Penthouse Guestroom    6642777   \n",
              "11288  20196339   Private Guest Suite-Separate Entrance-JFK 10 min    7097558   \n",
              "1096     945297                 East Village Gay Friendly Dbl Room    5074654   \n",
              "\n",
              "      neighbourhood_group     neighbourhood  latitude  longitude  \\\n",
              "18534           Manhattan      East Village  40.72380  -73.99038   \n",
              "18527           Manhattan   Lower East Side  40.72259  -73.98841   \n",
              "7604             Brooklyn           Gowanus  40.66714  -73.99411   \n",
              "25869           Manhattan           Midtown  40.74640  -73.98701   \n",
              "9068               Queens           Jamaica  40.66946  -73.76679   \n",
              "17361           Manhattan           Midtown  40.74623  -73.98499   \n",
              "1301             Brooklyn      Williamsburg  40.71165  -73.95236   \n",
              "2612             Brooklyn      Williamsburg  40.71067  -73.95250   \n",
              "11288              Queens  South Ozone Park  40.67022  -73.79361   \n",
              "1096            Manhattan      East Village  40.73024  -73.98147   \n",
              "\n",
              "             room_type  price  minimum_nights  number_of_reviews last_review  \\\n",
              "18534     Private room    276               1               1503  2022-12-04   \n",
              "18527     Private room    229               1                918  2022-12-02   \n",
              "7604      Private room    117               1                765  2022-11-29   \n",
              "25869  Entire home/apt    285               1                750  2022-11-20   \n",
              "9068   Entire home/apt     59               1                749  2022-11-16   \n",
              "17361       Hotel room    233               1                744  2022-11-12   \n",
              "1301      Private room     90               1                724  2022-12-02   \n",
              "2612      Private room     93               1                723  2022-11-20   \n",
              "11288  Entire home/apt     79               1                639  2022-11-27   \n",
              "1096      Private room    100               1                638  2022-11-17   \n",
              "\n",
              "       reviews_per_month  calculated_host_listings_count  availability_365  \\\n",
              "18534              40.40                               4               345   \n",
              "18527              26.53                               4               328   \n",
              "7604                9.50                               1                 4   \n",
              "25869              40.47                              13               308   \n",
              "9068                9.95                               1               138   \n",
              "17361              18.93                              10                70   \n",
              "1301                6.27                               2                87   \n",
              "2612                7.14                               2                63   \n",
              "11288               9.85                               1                75   \n",
              "1096                5.39                               1               237   \n",
              "\n",
              "       number_of_reviews_ltm  \n",
              "18534                    733  \n",
              "18527                    299  \n",
              "7604                      95  \n",
              "25869                    457  \n",
              "9068                      71  \n",
              "17361                      7  \n",
              "1301                     112  \n",
              "2612                     106  \n",
              "11288                    112  \n",
              "1096                      87  "
            ],
            "text/html": [
              "\n",
              "  <div id=\"df-e1948430-1667-49c7-8a75-730aa5d87840\">\n",
              "    <div class=\"colab-df-container\">\n",
              "      <div>\n",
              "<style scoped>\n",
              "    .dataframe tbody tr th:only-of-type {\n",
              "        vertical-align: middle;\n",
              "    }\n",
              "\n",
              "    .dataframe tbody tr th {\n",
              "        vertical-align: top;\n",
              "    }\n",
              "\n",
              "    .dataframe thead th {\n",
              "        text-align: right;\n",
              "    }\n",
              "</style>\n",
              "<table border=\"1\" class=\"dataframe\">\n",
              "  <thead>\n",
              "    <tr style=\"text-align: right;\">\n",
              "      <th></th>\n",
              "      <th>id</th>\n",
              "      <th>name</th>\n",
              "      <th>host_id</th>\n",
              "      <th>neighbourhood_group</th>\n",
              "      <th>neighbourhood</th>\n",
              "      <th>latitude</th>\n",
              "      <th>longitude</th>\n",
              "      <th>room_type</th>\n",
              "      <th>price</th>\n",
              "      <th>minimum_nights</th>\n",
              "      <th>number_of_reviews</th>\n",
              "      <th>last_review</th>\n",
              "      <th>reviews_per_month</th>\n",
              "      <th>calculated_host_listings_count</th>\n",
              "      <th>availability_365</th>\n",
              "      <th>number_of_reviews_ltm</th>\n",
              "    </tr>\n",
              "  </thead>\n",
              "  <tbody>\n",
              "    <tr>\n",
              "      <th>18534</th>\n",
              "      <td>37122502</td>\n",
              "      <td>Amazing Micro Unit W/ communal rooftop and kit...</td>\n",
              "      <td>266755066</td>\n",
              "      <td>Manhattan</td>\n",
              "      <td>East Village</td>\n",
              "      <td>40.72380</td>\n",
              "      <td>-73.99038</td>\n",
              "      <td>Private room</td>\n",
              "      <td>276</td>\n",
              "      <td>1</td>\n",
              "      <td>1503</td>\n",
              "      <td>2022-12-04</td>\n",
              "      <td>40.40</td>\n",
              "      <td>4</td>\n",
              "      <td>345</td>\n",
              "      <td>733</td>\n",
              "    </tr>\n",
              "    <tr>\n",
              "      <th>18527</th>\n",
              "      <td>37122162</td>\n",
              "      <td>Beautiful Standard Full Room at The Ridge</td>\n",
              "      <td>266755066</td>\n",
              "      <td>Manhattan</td>\n",
              "      <td>Lower East Side</td>\n",
              "      <td>40.72259</td>\n",
              "      <td>-73.98841</td>\n",
              "      <td>Private room</td>\n",
              "      <td>229</td>\n",
              "      <td>1</td>\n",
              "      <td>918</td>\n",
              "      <td>2022-12-02</td>\n",
              "      <td>26.53</td>\n",
              "      <td>4</td>\n",
              "      <td>328</td>\n",
              "      <td>299</td>\n",
              "    </tr>\n",
              "    <tr>\n",
              "      <th>7604</th>\n",
              "      <td>12502633</td>\n",
              "      <td>Entire New Apartment in Park Slope / Gowanus</td>\n",
              "      <td>379619</td>\n",
              "      <td>Brooklyn</td>\n",
              "      <td>Gowanus</td>\n",
              "      <td>40.66714</td>\n",
              "      <td>-73.99411</td>\n",
              "      <td>Private room</td>\n",
              "      <td>117</td>\n",
              "      <td>1</td>\n",
              "      <td>765</td>\n",
              "      <td>2022-11-29</td>\n",
              "      <td>9.50</td>\n",
              "      <td>1</td>\n",
              "      <td>4</td>\n",
              "      <td>95</td>\n",
              "    </tr>\n",
              "    <tr>\n",
              "      <th>25869</th>\n",
              "      <td>49946715</td>\n",
              "      <td>S+ Location Midtown Studio Apt</td>\n",
              "      <td>341752262</td>\n",
              "      <td>Manhattan</td>\n",
              "      <td>Midtown</td>\n",
              "      <td>40.74640</td>\n",
              "      <td>-73.98701</td>\n",
              "      <td>Entire home/apt</td>\n",
              "      <td>285</td>\n",
              "      <td>1</td>\n",
              "      <td>750</td>\n",
              "      <td>2022-11-20</td>\n",
              "      <td>40.47</td>\n",
              "      <td>13</td>\n",
              "      <td>308</td>\n",
              "      <td>457</td>\n",
              "    </tr>\n",
              "    <tr>\n",
              "      <th>9068</th>\n",
              "      <td>15262831</td>\n",
              "      <td>THE PRIVACY DEN ~ 5 MINUTES TO JFK</td>\n",
              "      <td>97086824</td>\n",
              "      <td>Queens</td>\n",
              "      <td>Jamaica</td>\n",
              "      <td>40.66946</td>\n",
              "      <td>-73.76679</td>\n",
              "      <td>Entire home/apt</td>\n",
              "      <td>59</td>\n",
              "      <td>1</td>\n",
              "      <td>749</td>\n",
              "      <td>2022-11-16</td>\n",
              "      <td>9.95</td>\n",
              "      <td>1</td>\n",
              "      <td>138</td>\n",
              "      <td>71</td>\n",
              "    </tr>\n",
              "    <tr>\n",
              "      <th>17361</th>\n",
              "      <td>34072045</td>\n",
              "      <td>King Room City</td>\n",
              "      <td>259169672</td>\n",
              "      <td>Manhattan</td>\n",
              "      <td>Midtown</td>\n",
              "      <td>40.74623</td>\n",
              "      <td>-73.98499</td>\n",
              "      <td>Hotel room</td>\n",
              "      <td>233</td>\n",
              "      <td>1</td>\n",
              "      <td>744</td>\n",
              "      <td>2022-11-12</td>\n",
              "      <td>18.93</td>\n",
              "      <td>10</td>\n",
              "      <td>70</td>\n",
              "      <td>7</td>\n",
              "    </tr>\n",
              "    <tr>\n",
              "      <th>1301</th>\n",
              "      <td>1217318</td>\n",
              "      <td>Williamsburg Penthouse Hideaway</td>\n",
              "      <td>6642777</td>\n",
              "      <td>Brooklyn</td>\n",
              "      <td>Williamsburg</td>\n",
              "      <td>40.71165</td>\n",
              "      <td>-73.95236</td>\n",
              "      <td>Private room</td>\n",
              "      <td>90</td>\n",
              "      <td>1</td>\n",
              "      <td>724</td>\n",
              "      <td>2022-12-02</td>\n",
              "      <td>6.27</td>\n",
              "      <td>2</td>\n",
              "      <td>87</td>\n",
              "      <td>112</td>\n",
              "    </tr>\n",
              "    <tr>\n",
              "      <th>2612</th>\n",
              "      <td>3798941</td>\n",
              "      <td>Williamsburg Penthouse Guestroom</td>\n",
              "      <td>6642777</td>\n",
              "      <td>Brooklyn</td>\n",
              "      <td>Williamsburg</td>\n",
              "      <td>40.71067</td>\n",
              "      <td>-73.95250</td>\n",
              "      <td>Private room</td>\n",
              "      <td>93</td>\n",
              "      <td>1</td>\n",
              "      <td>723</td>\n",
              "      <td>2022-11-20</td>\n",
              "      <td>7.14</td>\n",
              "      <td>2</td>\n",
              "      <td>63</td>\n",
              "      <td>106</td>\n",
              "    </tr>\n",
              "    <tr>\n",
              "      <th>11288</th>\n",
              "      <td>20196339</td>\n",
              "      <td>Private Guest Suite-Separate Entrance-JFK 10 min</td>\n",
              "      <td>7097558</td>\n",
              "      <td>Queens</td>\n",
              "      <td>South Ozone Park</td>\n",
              "      <td>40.67022</td>\n",
              "      <td>-73.79361</td>\n",
              "      <td>Entire home/apt</td>\n",
              "      <td>79</td>\n",
              "      <td>1</td>\n",
              "      <td>639</td>\n",
              "      <td>2022-11-27</td>\n",
              "      <td>9.85</td>\n",
              "      <td>1</td>\n",
              "      <td>75</td>\n",
              "      <td>112</td>\n",
              "    </tr>\n",
              "    <tr>\n",
              "      <th>1096</th>\n",
              "      <td>945297</td>\n",
              "      <td>East Village Gay Friendly Dbl Room</td>\n",
              "      <td>5074654</td>\n",
              "      <td>Manhattan</td>\n",
              "      <td>East Village</td>\n",
              "      <td>40.73024</td>\n",
              "      <td>-73.98147</td>\n",
              "      <td>Private room</td>\n",
              "      <td>100</td>\n",
              "      <td>1</td>\n",
              "      <td>638</td>\n",
              "      <td>2022-11-17</td>\n",
              "      <td>5.39</td>\n",
              "      <td>1</td>\n",
              "      <td>237</td>\n",
              "      <td>87</td>\n",
              "    </tr>\n",
              "  </tbody>\n",
              "</table>\n",
              "</div>\n",
              "      <button class=\"colab-df-convert\" onclick=\"convertToInteractive('df-e1948430-1667-49c7-8a75-730aa5d87840')\"\n",
              "              title=\"Convert this dataframe to an interactive table.\"\n",
              "              style=\"display:none;\">\n",
              "        \n",
              "  <svg xmlns=\"http://www.w3.org/2000/svg\" height=\"24px\"viewBox=\"0 0 24 24\"\n",
              "       width=\"24px\">\n",
              "    <path d=\"M0 0h24v24H0V0z\" fill=\"none\"/>\n",
              "    <path d=\"M18.56 5.44l.94 2.06.94-2.06 2.06-.94-2.06-.94-.94-2.06-.94 2.06-2.06.94zm-11 1L8.5 8.5l.94-2.06 2.06-.94-2.06-.94L8.5 2.5l-.94 2.06-2.06.94zm10 10l.94 2.06.94-2.06 2.06-.94-2.06-.94-.94-2.06-.94 2.06-2.06.94z\"/><path d=\"M17.41 7.96l-1.37-1.37c-.4-.4-.92-.59-1.43-.59-.52 0-1.04.2-1.43.59L10.3 9.45l-7.72 7.72c-.78.78-.78 2.05 0 2.83L4 21.41c.39.39.9.59 1.41.59.51 0 1.02-.2 1.41-.59l7.78-7.78 2.81-2.81c.8-.78.8-2.07 0-2.86zM5.41 20L4 18.59l7.72-7.72 1.47 1.35L5.41 20z\"/>\n",
              "  </svg>\n",
              "      </button>\n",
              "      \n",
              "  <style>\n",
              "    .colab-df-container {\n",
              "      display:flex;\n",
              "      flex-wrap:wrap;\n",
              "      gap: 12px;\n",
              "    }\n",
              "\n",
              "    .colab-df-convert {\n",
              "      background-color: #E8F0FE;\n",
              "      border: none;\n",
              "      border-radius: 50%;\n",
              "      cursor: pointer;\n",
              "      display: none;\n",
              "      fill: #1967D2;\n",
              "      height: 32px;\n",
              "      padding: 0 0 0 0;\n",
              "      width: 32px;\n",
              "    }\n",
              "\n",
              "    .colab-df-convert:hover {\n",
              "      background-color: #E2EBFA;\n",
              "      box-shadow: 0px 1px 2px rgba(60, 64, 67, 0.3), 0px 1px 3px 1px rgba(60, 64, 67, 0.15);\n",
              "      fill: #174EA6;\n",
              "    }\n",
              "\n",
              "    [theme=dark] .colab-df-convert {\n",
              "      background-color: #3B4455;\n",
              "      fill: #D2E3FC;\n",
              "    }\n",
              "\n",
              "    [theme=dark] .colab-df-convert:hover {\n",
              "      background-color: #434B5C;\n",
              "      box-shadow: 0px 1px 3px 1px rgba(0, 0, 0, 0.15);\n",
              "      filter: drop-shadow(0px 1px 2px rgba(0, 0, 0, 0.3));\n",
              "      fill: #FFFFFF;\n",
              "    }\n",
              "  </style>\n",
              "\n",
              "      <script>\n",
              "        const buttonEl =\n",
              "          document.querySelector('#df-e1948430-1667-49c7-8a75-730aa5d87840 button.colab-df-convert');\n",
              "        buttonEl.style.display =\n",
              "          google.colab.kernel.accessAllowed ? 'block' : 'none';\n",
              "\n",
              "        async function convertToInteractive(key) {\n",
              "          const element = document.querySelector('#df-e1948430-1667-49c7-8a75-730aa5d87840');\n",
              "          const dataTable =\n",
              "            await google.colab.kernel.invokeFunction('convertToInteractive',\n",
              "                                                     [key], {});\n",
              "          if (!dataTable) return;\n",
              "\n",
              "          const docLinkHtml = 'Like what you see? Visit the ' +\n",
              "            '<a target=\"_blank\" href=https://colab.research.google.com/notebooks/data_table.ipynb>data table notebook</a>'\n",
              "            + ' to learn more about interactive tables.';\n",
              "          element.innerHTML = '';\n",
              "          dataTable['output_type'] = 'display_data';\n",
              "          await google.colab.output.renderOutput(dataTable, element);\n",
              "          const docLink = document.createElement('div');\n",
              "          docLink.innerHTML = docLinkHtml;\n",
              "          element.appendChild(docLink);\n",
              "        }\n",
              "      </script>\n",
              "    </div>\n",
              "  </div>\n",
              "  "
            ]
          },
          "metadata": {},
          "execution_count": 35
        }
      ]
    },
    {
      "cell_type": "code",
      "source": [
        "media_preço=top_reviewed_listings.price.mean()\n",
        "print('Média de custo por noite para imóveis com maior número de avaliações: {}'.format(media_preço))"
      ],
      "metadata": {
        "colab": {
          "base_uri": "https://localhost:8080/"
        },
        "id": "v8cMFqKC5Cdx",
        "outputId": "89e9633f-c33d-4507-97a8-ab475fd669d8"
      },
      "execution_count": 40,
      "outputs": [
        {
          "output_type": "stream",
          "name": "stdout",
          "text": [
            "Média de custo por noite para imóveis com maior número de avaliações: 156.1\n"
          ]
        }
      ]
    },
    {
      "cell_type": "code",
      "source": [
        "media_noites=top_reviewed_listings.minimum_nights.mean()\n",
        "print('Média de \"minimum_nights\" para imóveis com maior número de avaliações: {} noite'.format(media_noites))"
      ],
      "metadata": {
        "colab": {
          "base_uri": "https://localhost:8080/"
        },
        "id": "-ywirl-a7QAU",
        "outputId": "e3d46881-32e1-4aa1-c72a-440a82f746dc"
      },
      "execution_count": 41,
      "outputs": [
        {
          "output_type": "stream",
          "name": "stdout",
          "text": [
            "Média de \"minimum_nights\" para imóveis com maior número de avaliações: 1.0 noite\n"
          ]
        }
      ]
    },
    {
      "cell_type": "code",
      "source": [
        "df_clean.minimum_nights.mean()"
      ],
      "metadata": {
        "colab": {
          "base_uri": "https://localhost:8080/"
        },
        "id": "t4T-C9nD78FW",
        "outputId": "23047712-e9b5-4d9d-88ed-9285a1562e41"
      },
      "execution_count": 42,
      "outputs": [
        {
          "output_type": "execute_result",
          "data": {
            "text/plain": [
              "15.781624938366296"
            ]
          },
          "metadata": {},
          "execution_count": 42
        }
      ]
    },
    {
      "cell_type": "code",
      "source": [
        "# Quantos valores de entrada com minimum_nights = 30 dias em porcentagem\n",
        "df_clean.loc[df_clean['minimum_nights']==30].shape[0] / df_clean.shape[0]*100"
      ],
      "metadata": {
        "colab": {
          "base_uri": "https://localhost:8080/"
        },
        "id": "7lgUb9UWU0Xd",
        "outputId": "30f8b21f-0584-41e8-cd02-6d99f09e658c"
      },
      "execution_count": 64,
      "outputs": [
        {
          "output_type": "execute_result",
          "data": {
            "text/plain": [
              "46.414288062236345"
            ]
          },
          "metadata": {},
          "execution_count": 64
        }
      ]
    },
    {
      "cell_type": "markdown",
      "source": [
        "Mais uma vez não encontramos indícios de correlação dos dados, os imóveis de `room_type`que possuem maior número de anúncios tem seu preço médio muito próximo da média geral de preços, única coisa que é possível perceber neste ponto é que os preços de hoteis anúnciados na plataforma tem seu custo por noite 60% acima da média dos demais imóveis anunciados (o que é justificado pela estrutura necessária para manter um hotel e as comodidades encontradas quando se hospeda em um). Outro ponto que não se nota qualquer relação é dos quartos que possuem mais quantidade de avaliações com relação à seu preço, até por que nesta base de dados temos disponível apenas a quantificação de avaliações e não conseguimos inferir se são positivas ou negativas, ainda com relação aos imóveis que mais possuem avaliação, é possível notar que 6/10 deles são \"Privete Room\" e que a média de `minimum_nights` dos 10 imóveis com mais avaliações é de 01 noite, já a média geral do *dataset* é de 15 noites."
      ],
      "metadata": {
        "id": "9ZYg12135Lhw"
      }
    },
    {
      "cell_type": "code",
      "source": [
        "df_clean.plot(kind=\"scatter\", x='longitude', y='latitude', alpha=1, c=df_clean['price'], s=35,\n",
        "              cmap=plt.get_cmap('jet'), figsize=(12,8));"
      ],
      "metadata": {
        "colab": {
          "base_uri": "https://localhost:8080/",
          "height": 469
        },
        "id": "N1EvpAtZ9rQA",
        "outputId": "8c2e8c68-f580-4dad-ba89-52d49c33ea40"
      },
      "execution_count": 43,
      "outputs": [
        {
          "output_type": "display_data",
          "data": {
            "text/plain": [
              "<Figure size 864x576 with 2 Axes>"
            ],
            "image/png": "[encoded data removed]"
          },
          "metadata": {
            "needs_background": "light"
          }
        }
      ]
    },
    {
      "cell_type": "markdown",
      "source": [
        "##Conclusão\n",
        "\n",
        "Durante análise foi possível observar uma grande quantidade de registros (41533) o que nos possibilitou investigar de forma exploratória os diversos dados presentes, primeiramente pudemos verificar que aproximadamente 12% dos dados possuiam *outliers*, optamos por elimina-los para obter um resultado mais próximo da realidade. Foi verificado que a média de custo para aluguel de um imóvel é de 145,20 e que Manhattan é região mais cara apresentando uma média de custo de 173,22. Também foi verificado que que a maioria dos quartos postados na plataforma são do modelo de apartamento inteiro (55,31%) e na opção de aluguel de quarto (43,11%) outro ponto que me chamou atenção é que existe uma grande quantidade (46,41%) de anúncios com `minimum_nights`de 30 dias comportamente que pelo que notei não é tão comum no Brasil e isso também acaba jogando a média dessa coluna para cima, com o valor médio de 15 noites mínimas. Infelizmente com uma análise preliminar não foi possível notar nenhuma correlação direta entre os dados, acredito que seria legal se tivessemos algumas informações extras no *dataset* para uma investigação maior, como por exemplo o *rate* das avaliações.\n"
      ],
      "metadata": {
        "id": "UlCoEwDZ9q0_"
      }
    }
  ]
}